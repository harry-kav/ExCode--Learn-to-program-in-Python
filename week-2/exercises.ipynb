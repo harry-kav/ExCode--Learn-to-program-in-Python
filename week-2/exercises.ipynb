{
 "cells": [
  {
   "cell_type": "markdown",
   "metadata": {
    "id": "yoTpWFm7cV4R"
   },
   "source": [
    "# ExCode Python 2\n",
    "\n",
    "**ExCode is run by X-AI and Entrepreneurs Society**\n",
    "\n",
    "---\n",
    "[X-AI Facebook](https://www.facebook.com/exeAI)\n",
    "\n",
    "[X-AI Sign Up](https://fixr.co/organiser/83306494)\n",
    "\n",
    "---\n",
    "[Entrepreneurs Society Facebook](https://www.facebook.com/ExeterEntrepreneurs)\n",
    "\n",
    "[Entrepreneurs Society Guild Page](https://www.exeterguild.org/societies/exeterentrepreneurs/)\n"
   ]
  },
  {
   "cell_type": "markdown",
   "metadata": {
    "id": "4_ILmrSccaXG"
   },
   "source": [
    "**Overview**\n",
    "\n",
    "\n",
    "*   Recap\n",
    "*   Boolean variables\n",
    "*   Editing strings\n",
    "*   Lists\n",
    "*   Looping through lists\n",
    "*   Building your own programs\n",
    "\n",
    "\n",
    "\n",
    "\n",
    "\n",
    "\n",
    "\n",
    "\n"
   ]
  },
  {
   "cell_type": "markdown",
   "metadata": {
    "id": "qiRkXcn_fXQU"
   },
   "source": [
    "# Recap\n",
    "Last lesson we went through: outputting to screen, variables, manipulating variables, casting variables.\n",
    "\n"
   ]
  },
  {
   "cell_type": "code",
   "execution_count": null,
   "metadata": {
    "colab": {
     "base_uri": "https://localhost:8080/",
     "height": 67
    },
    "executionInfo": {
     "elapsed": 1373,
     "status": "ok",
     "timestamp": 1601969907961,
     "user": {
      "displayName": "Martin Brett",
      "photoUrl": "",
      "userId": "01508036411066689685"
     },
     "user_tz": -60
    },
    "id": "hyENZ2b7gcDc",
    "outputId": "02b4638f-8f96-4e21-a588-2660f30d86aa"
   },
   "outputs": [
    {
     "name": "stdout",
     "output_type": "stream",
     "text": [
      "You are able to print things to the screen.\n",
      "2.5\n",
      "The price of beer is 2.5 and the pub name is The Vic\n"
     ]
    }
   ],
   "source": [
    "print(\"You are able to print things to the screen.\") #This is how you print things onto the screen\n",
    "\n",
    "price_of_beer = 2.50      #Creating a boolean variable\n",
    "pub_name = \"The Vic\"      #Creating a string variable\n",
    "price_upstairs_tp = 5     #Creating an integer variable\n",
    "\n",
    "print(price_of_beer)      #It is possible to just print out variables\n",
    "print(\"The price of beer is\", price_of_beer, \"and the pub name is \" + pub_name) #This is how to print variables alongside text\n",
    "\n",
    "ex_value1 = (65 + 5) - 4            #Addition and subtraction\n",
    "ex_value2 = ex_value1 * 24.5        #Multiplication\n",
    "ex_value3 = ex_value1 / ex_value1   #Division\n",
    "\n",
    "paper_cost = int(5.40)  #This casts to an integer, values round down when cast to integer, i.e. this equals 5.\n",
    "pen_cost = float(15)    #This casts to a float\n",
    "stamp_cost = str(0.84)  #This casts to a string"
   ]
  },
  {
   "cell_type": "markdown",
   "metadata": {
    "id": "3uSk6O4skQCT"
   },
   "source": [
    "# Boolean Variables\n",
    "\n",
    "Boolean variables can be only **True** or **False**. Therefore, they are often used when testing facts on variables. This can be done using comparison operators.\n"
   ]
  },
  {
   "cell_type": "code",
   "execution_count": null,
   "metadata": {
    "colab": {
     "base_uri": "https://localhost:8080/",
     "height": 117
    },
    "executionInfo": {
     "elapsed": 1369,
     "status": "ok",
     "timestamp": 1601969907962,
     "user": {
      "displayName": "Martin Brett",
      "photoUrl": "",
      "userId": "01508036411066689685"
     },
     "user_tz": -60
    },
    "id": "dY1ZkjhilBiG",
    "outputId": "803053bd-f908-4780-b652-1841cae9611b"
   },
   "outputs": [
    {
     "name": "stdout",
     "output_type": "stream",
     "text": [
      "Is 6 greater than 4? True\n",
      "Is 6 less than 4? False\n",
      "Is 5 greater than or equal to 5.0? True\n",
      "Is 5 less than or equal to 4.9? False\n",
      "Are these two booleans the same? False\n",
      "Are these sentences the same?: True\n"
     ]
    }
   ],
   "source": [
    "example_1 = False #Creating a False boolean variable\n",
    "example_2 = True  #Creating a True boolean variable\n",
    "\n",
    "print(\"Is 6 greater than 4?\", 6 > 4)                  #Greater than\n",
    "print(\"Is 6 less than 4?\", 6 < 4)                     #Less than\n",
    "print(\"Is 5 greater than or equal to 5.0?\", 5 >= 5.0) #Greater than or equal to\n",
    "print(\"Is 5 less than or equal to 4.9?\", 5 <= 4.9)    #Less than or equal to\n",
    "\n",
    "small_number = 0.56\n",
    "big_number = 78\n",
    "\n",
    "test_val1 = (small_number == big_number)   #Is equal to. This is set to False because the two values in the variables are not the same                                             \n",
    "test_val2 = (small_number != big_number)   #Is not equal to. This is set to True because the two values in the variables are the same\n",
    "\n",
    "print(\"Are these two booleans the same?\", test_val1 == test_val2) #You can also compare if boolean variables are the same\n",
    "\n",
    "test_text = \"A random sentence\"\n",
    "print(\"Are these sentences the same?:\", test_text == \"A random sentence\") #It is also possible to test if strings are the same"
   ]
  },
  {
   "cell_type": "markdown",
   "metadata": {
    "id": "BqVbbMyIpKMr"
   },
   "source": [
    "# Editing Strings\n",
    "\n",
    "Strings have lots of inbuilt functionality that allows for us to edit and gather data from them.\n",
    "\n",
    "This includes accessing specific elements of a string, **slicing** parts of a string and finding the length of the string. There is a lot more functionality available but we will focus on these."
   ]
  },
  {
   "cell_type": "code",
   "execution_count": null,
   "metadata": {
    "colab": {
     "base_uri": "https://localhost:8080/",
     "height": 134
    },
    "executionInfo": {
     "elapsed": 1368,
     "status": "ok",
     "timestamp": 1601969907964,
     "user": {
      "displayName": "Martin Brett",
      "photoUrl": "",
      "userId": "01508036411066689685"
     },
     "user_tz": -60
    },
    "id": "ECwyWh6Ds3aE",
    "outputId": "f2f3b603-63d4-4b50-dffb-fd0d034903ea"
   },
   "outputs": [
    {
     "name": "stdout",
     "output_type": "stream",
     "text": [
      "I\n",
      "a\n",
      "s\n",
      "1. walk\n",
      "2. I walked\n",
      "3. camp\n",
      "4. 18\n"
     ]
    }
   ],
   "source": [
    "sentence = \"I walked to campus\"\n",
    "print(sentence[0])    #Prints out the first letter in the string\n",
    "print(sentence[3])    #Prints out the fourth letter in the string\n",
    "print(sentence[-1])   #Prints out the last letter in the string\n",
    "\n",
    "word_walk = sentence[2:6]  #It is possible to slice a series of letters. This slices from the 2nd to the 6th, not including the 6th\n",
    "print(\"1. \" + word_walk)   \n",
    "\n",
    "words_i_walked = sentence[:8]     #If the first number is left blank it starts from the beginning on the string, same applies to second number\n",
    "print(\"2. \" + words_i_walked)     \n",
    "\n",
    "word_camp = sentence[-6:-2]       #Slices can use negative indexes. This slices from the 6th last letter to the 2nd last, not including the 2nd last\n",
    "print(\"3. \" + word_camp)        \n",
    "\n",
    "length_string = len(sentence)        #It is possible to find the length of a string as an integer\n",
    "print(\"4.\",length_string)            #Printing out the length_string\n",
    " "
   ]
  },
  {
   "cell_type": "markdown",
   "metadata": {
    "id": "RKKENMFz3FwF"
   },
   "source": [
    "# Lists\n",
    "\n",
    "**Lists** are a way of gathering many different variables and ordering them into a group. These variables can be accessed and interacted with using indexes, just like strings."
   ]
  },
  {
   "cell_type": "code",
   "execution_count": null,
   "metadata": {
    "colab": {
     "base_uri": "https://localhost:8080/",
     "height": 67
    },
    "executionInfo": {
     "elapsed": 1591,
     "status": "ok",
     "timestamp": 1601969908189,
     "user": {
      "displayName": "Martin Brett",
      "photoUrl": "",
      "userId": "01508036411066689685"
     },
     "user_tz": -60
    },
    "id": "SwSguBlO3d5N",
    "outputId": "e1bbe3a8-3842-40b4-c358-3500f25beef1"
   },
   "outputs": [
    {
     "name": "stdout",
     "output_type": "stream",
     "text": [
      "['Mon', 'Tue', 'Wed', 'Thu', 'Fri', 'Sat', 'Sun']\n",
      "Not Today\n",
      "['Mon', 'Wed', 'Not Today', 'Fri', 'Sat', 'Sun']\n"
     ]
    }
   ],
   "source": [
    "days_of_week = [\"Mon\", \"Tue\", \"Wed\", \"Thu\", \"Fri\", \"Sat\"]   #This is how to add to the list\n",
    "days_of_week.append(\"Sun\")                                  #This will add \"Sun\" to the end of the list\n",
    "print(days_of_week)                                         #This will print out the entire list\n",
    "\n",
    "tue = days_of_week[1]       #Individual members can be accessed using indexes\n",
    "mon_tue = days_of_week[:2]  #Lists can also be sliced, this will be a new list with the first 2 members of the original list\n",
    "\n",
    "days_of_week[3] = \"Not Today\"   #This will change the 4th element of the list to \"Not Today\"\n",
    "print(days_of_week[3])          #This print shows that the 4th element is now \"Not Today\"\n",
    "\n",
    "del days_of_week[1]         #This will delete 2nd element from the list\n",
    "print(days_of_week)         #This print will show that \"Tue\" has been deleted and all the elements of the list have been shifted down one\n"
   ]
  },
  {
   "cell_type": "markdown",
   "metadata": {
    "id": "qg3PqYWJzP7q"
   },
   "source": [
    "# Looping through lists\n",
    "\n",
    "It is possible to work your way through every single member of a list without explicitly writing code for each and every member. You can loop through every member of the list using something called a **for** loop, everything in the **block** following the **for** loop is repeated each time. Note that the block is created using the **tab key**."
   ]
  },
  {
   "cell_type": "code",
   "execution_count": null,
   "metadata": {
    "colab": {
     "base_uri": "https://localhost:8080/",
     "height": 134
    },
    "executionInfo": {
     "elapsed": 1145,
     "status": "ok",
     "timestamp": 1601969908190,
     "user": {
      "displayName": "Martin Brett",
      "photoUrl": "",
      "userId": "01508036411066689685"
     },
     "user_tz": -60
    },
    "id": "QybJ0sut0JL6",
    "outputId": "256528b7-8a05-4497-b7c0-c53bbac6ba3f"
   },
   "outputs": [
    {
     "name": "stdout",
     "output_type": "stream",
     "text": [
      "The next prime number doubled is: 2\n",
      "The next prime number doubled is: 6\n",
      "The next prime number doubled is: 10\n",
      "The next prime number doubled is: 14\n",
      "The next prime number doubled is: 22\n",
      "The next prime number doubled is: 26\n",
      "The for loop has ended.\n"
     ]
    }
   ],
   "source": [
    "prime_numbers = [1,3,5,7,11,13]\n",
    "\n",
    "for _number in prime_numbers:  #This is a for loop. It loops through every member of prime_numbers\n",
    "  new_number = _number * 2  #This creates a variable that holds double the prime number, Note how this is indented with 'tab'\n",
    "  print(\"The next prime number doubled is:\", new_number)  #This then prints the new_number\n",
    "\n",
    "print(\"The for loop has ended.\")  #This is only printed once because it is not in the block\n",
    "\n",
    "#In steps, this is how the for loop works.\n",
    "#1. It assigns the first number, 1, to _number.\n",
    "#2. It then creates a new variable which is double _number.\n",
    "#3. double_number is then printed onto the screen.\n",
    "#4. The block ends here so the loop restarts but with the next number.\n",
    "#5. The loop ends once all the numbers have been used.\n",
    "#6. Then \"The for loop has ended\" will be printed.\n",
    "\n",
    "#Things to remember:\n",
    "#You must indent everything you want to be repeated using the 'tab'key.\n",
    "#Once the loop finishes you must unindent."
   ]
  },
  {
   "cell_type": "markdown",
   "metadata": {
    "id": "tZeI8Ase8Y9U"
   },
   "source": [
    "# Build your own programs\n",
    "\n",
    "Below are some questions to work on. If you have any questions ask the Teaching Assistant or look at the examples on this page."
   ]
  },
  {
   "cell_type": "markdown",
   "metadata": {
    "id": "SpkhNAgF8oWJ"
   },
   "source": [
    "1.)\n",
    "\n",
    "Add **var_a** and **var_b** together and assign the result to another variable.\n",
    "\n",
    "Check if the result is equal to **var_c**. Print out if it is true or false.\n",
    "\n",
    "Check if the result is not equal to **var_c**. Print out if it is true or false."
   ]
  },
  {
   "cell_type": "code",
   "execution_count": null,
   "metadata": {
    "id": "s4HqFpOA9bX0"
   },
   "outputs": [],
   "source": [
    "var_a = \"43\"  #Strings must be cast to interact with integers\n",
    "var_b = 678\n",
    "var_c = 31476\n",
    "\n",
    "\n"
   ]
  },
  {
   "cell_type": "markdown",
   "metadata": {
    "id": "bKgZH9k-972D"
   },
   "source": [
    "2.)\n",
    "\n",
    "Create a variable with the value **45.32** and another variable with the value **47.4** and multiply these two together. Assign the result to a variable.\n",
    "\n",
    "Check if the result is **greater than 2404.98**. Print out if it is true or false. \n",
    "\n",
    "Check if the result is **less than or equal to 2148.168**. Print out if it is true or false. \n"
   ]
  },
  {
   "cell_type": "code",
   "execution_count": null,
   "metadata": {
    "id": "BFHWgvbfAxP5"
   },
   "outputs": [],
   "source": [
    "\n",
    "\n",
    "\n",
    "\n",
    "\n",
    "\n"
   ]
  },
  {
   "cell_type": "markdown",
   "metadata": {
    "id": "GSX1Voy5AziO"
   },
   "source": [
    "3.)\n",
    "\n",
    "With the provided string and only using indexes, spell out the name \"nemo\" and print it out onto the screen. \n"
   ]
  },
  {
   "cell_type": "code",
   "execution_count": null,
   "metadata": {
    "id": "YiLa_BK0Egzv"
   },
   "outputs": [],
   "source": [
    "this_sentence = \"When you come to a fork in the road, take it.\" #Remember the indexes start at 0.\n",
    "\n",
    "\n",
    "\n",
    "\n"
   ]
  },
  {
   "cell_type": "markdown",
   "metadata": {
    "id": "vbKKuzK3GMJs"
   },
   "source": [
    "4.)\n",
    "\n",
    "With the provided string print out the **first 4 characters**.\n",
    "\n",
    "Print out the **last 7 characters**.\n",
    "\n",
    "Print out the word **isn't** using only slicing.\n",
    "\n",
    "Print out the words **the same** using only negative index values.\n",
    "\n",
    "\n",
    "\n",
    "\n",
    "\n"
   ]
  },
  {
   "cell_type": "code",
   "execution_count": null,
   "metadata": {
    "id": "QsycJGngNMm8"
   },
   "outputs": [],
   "source": [
    "provided_text = \"Timepiece just isn't the same anymore\" #Remember index values start at 0.\n",
    "\n",
    "\n",
    "\n",
    "\n"
   ]
  },
  {
   "cell_type": "markdown",
   "metadata": {
    "id": "LksiG4c8SSoG"
   },
   "source": [
    "5.)\n",
    "\n",
    "Create a list of **integers** with the following values: **5,10,15,60,65**.\n",
    "\n",
    "Now append **70** to the end of the list.\n",
    "\n",
    "Now change the **first value** in the list to **50** and the **second value** to 55.\n",
    "\n",
    "**Delete the third value** in the list.\n",
    "\n",
    "Now print out the full list. "
   ]
  },
  {
   "cell_type": "code",
   "execution_count": null,
   "metadata": {
    "id": "GF9w6dPMUx3Q"
   },
   "outputs": [],
   "source": [
    "\n",
    "\n",
    "\n",
    "\n"
   ]
  },
  {
   "cell_type": "markdown",
   "metadata": {
    "id": "eCPv1yWcUyxB"
   },
   "source": [
    "6.)\n",
    "\n",
    "Using a **for loop**, print out every value in the list **multiplied by 3**.\n",
    "\n",
    "Remember your indentations with **tab**.\n",
    "\n"
   ]
  },
  {
   "cell_type": "code",
   "execution_count": null,
   "metadata": {
    "id": "xBempRh9VQqo"
   },
   "outputs": [],
   "source": [
    "practice_list = [4,5,6,7,8,9]\n",
    "\n",
    "\n",
    "\n"
   ]
  },
  {
   "cell_type": "markdown",
   "metadata": {
    "id": "qP6o1w81ViGh"
   },
   "source": [
    "7.) \n",
    "\n",
    "You are provided with a list and a variable holding the value **0**.\n",
    "\n",
    "Using a **for loop**, loop through every number in the list and add it to **total_value**. \n",
    "\n",
    "Once you have done this print out the words **\"The total of all these values is:\"** followed by your **total_value**. \n",
    "\n",
    "\n",
    "When printing out the final sentence, remember to unindent your **tab** from the **for loop** using **backspace**."
   ]
  },
  {
   "cell_type": "code",
   "execution_count": null,
   "metadata": {
    "id": "F39eIkGFVhig"
   },
   "outputs": [],
   "source": [
    "number_list = [53,76,2,-2,54,90,100]\n",
    "total_value = 0\n",
    "\n",
    "\n",
    "\n",
    "\n"
   ]
  },
  {
   "cell_type": "markdown",
   "metadata": {
    "id": "liy1SPte2fIW"
   },
   "source": [
    "8.) \n",
    "\n",
    "Two lists are provided, one is holding some values and the other is empty.\n",
    "\n",
    "Using a **for loop**, loop through the entire first list and check if each number is **larger than 56.7**. Append the **True** or **False** result from each of these comparisons to the second list.\n",
    "\n",
    "Print out both lists at the end.\n",
    "\n",
    "When your print, the first list should hold all the original 10 values, the second list should hold 10 **True** or **False** values."
   ]
  },
  {
   "cell_type": "code",
   "execution_count": null,
   "metadata": {
    "id": "d1h5YNmb4IJL"
   },
   "outputs": [],
   "source": [
    "first_list = [56,45,76.8,-245,1,0,65.4,34.7,1,0.001]\n",
    "second_list = []\n",
    "\n",
    "\n",
    "\n"
   ]
  },
  {
   "cell_type": "markdown",
   "metadata": {
    "id": "QD612ONDAgKe"
   },
   "source": [
    "**ExCode is run by X-AI and Entrepreneurs Society**\n",
    "\n",
    "---\n",
    "[X-AI Facebook](https://www.facebook.com/exeAI)\n",
    "\n",
    "[X-AI Sign Up](https://fixr.co/organiser/83306494)\n",
    "\n",
    "---\n",
    "[Entrepreneurs Society Facebook](https://www.facebook.com/ExeterEntrepreneurs)\n",
    "\n",
    "[Entrepreneurs Society Guild Page](https://www.exeterguild.org/societies/exeterentrepreneurs/)\n",
    "\n",
    "---"
   ]
  }
 ],
 "metadata": {
  "colab": {
   "collapsed_sections": [],
   "name": "ExCode_Lesson_2.ipynb",
   "provenance": []
  },
  "kernelspec": {
   "display_name": "Python 3 (ipykernel)",
   "language": "python",
   "name": "python3"
  },
  "language_info": {
   "codemirror_mode": {
    "name": "ipython",
    "version": 3
   },
   "file_extension": ".py",
   "mimetype": "text/x-python",
   "name": "python",
   "nbconvert_exporter": "python",
   "pygments_lexer": "ipython3",
   "version": "3.9.7"
  }
 },
 "nbformat": 4,
 "nbformat_minor": 1
}
