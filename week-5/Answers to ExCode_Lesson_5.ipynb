{
  "nbformat": 4,
  "nbformat_minor": 0,
  "metadata": {
    "colab": {
      "name": "ExCode_Lesson_5.ipynb",
      "provenance": [],
      "collapsed_sections": [],
      "toc_visible": true
    },
    "kernelspec": {
      "name": "python3",
      "display_name": "Python 3"
    }
  },
  "cells": [
    {
      "cell_type": "markdown",
      "metadata": {
        "id": "sIBPPMDN_YzR"
      },
      "source": [
        "\n",
        "# **ExCode Python 5**\n",
        "\n",
        "**ExCode is run by X-AI and Entrepreneurs Society**\n",
        "\n",
        "---\n",
        "[X-AI Facebook](https://www.facebook.com/exeAI)\n",
        "\n",
        "[X-AI Sign Up](https://fixr.co/organiser/83306494)\n",
        "\n",
        "---\n",
        "[Entrepreneurs Society Facebook](https://www.facebook.com/ExeterEntrepreneurs)\n",
        "\n",
        "[Entrepreneurs Society Guild Page](https://www.exeterguild.org/societies/exeterentrepreneurs/)\n",
        "\n",
        "---"
      ]
    },
    {
      "cell_type": "markdown",
      "metadata": {
        "id": "u2Uy1CpjpGbE"
      },
      "source": [
        "**Overview**\n",
        "\n",
        "\n",
        "*   Recap\n",
        "*   Functions\n",
        "*   Building your own programs\n",
        "*   Extra questions"
      ]
    },
    {
      "cell_type": "markdown",
      "metadata": {
        "id": "EafY0YNoyWWt"
      },
      "source": [
        "# Recap\n",
        "\n",
        "Quick recap of lists, loops and conditionals. \n"
      ]
    },
    {
      "cell_type": "code",
      "metadata": {
        "id": "IPqO6Sipz2Ti"
      },
      "source": [
        "some_num = [1,4,7,9,1,5,7]\n",
        "new_list = []               #An empty list with nothing in it\n",
        "\n",
        "for num in some_num:        #Loops through everything in the list and runs the indented code for every member of the list\n",
        "  new_val = num * num       #Creates a new variable which is the square of num\n",
        "  new_list.append(new_val)  #Adds this new variable to the end of the new_list\n",
        "                            #This results in new_list holding all the values of some_num squared\n",
        "\n",
        "\n",
        "for i in range(0, 10):         #Loops through the numbers 0 to 10, not including 10\n",
        "  print(\"Counting...\", i)      #Then prints out all the numbers\n",
        "\n",
        "\n",
        "example_s = \"This is an example\"\n",
        "\n",
        "\n",
        "#If...Else\n",
        "test_variable = 19\n",
        "\n",
        "if test_variable > 20:            #Will run if the conditional is True\n",
        "  print(\"This is larger than 20\")\n",
        "\n",
        "else:                             #Will run if the conditional is False\n",
        "  print(\"This is not larger than 20\")\n",
        "\n",
        "# While loops\n",
        "counter = 10\n",
        "\n",
        "while counter > 0:              #While this conditional is true it will run\n",
        "  print(\"Buffering...\")\n",
        "  counter = counter - 1\n",
        "print(\"Finished first while loop.\")\n",
        "\n",
        "\n",
        "# Break statement\n",
        "counter_2 = 0\n",
        "\n",
        "while True:                     #True statement used to keep loop running forever just for demonstration purposes\n",
        "  print(\"Waiting...\")\n",
        "  counter_2 = counter_2 +1\n",
        "  if counter_2 == 12:\n",
        "    print(\"Reached 12, breaking loop\")\n",
        "    break                       #\"break\" statement used to break out of loop\n",
        "print(\"Finished\")"
      ],
      "execution_count": null,
      "outputs": []
    },
    {
      "cell_type": "markdown",
      "metadata": {
        "id": "uLDNHW5bx4ZF"
      },
      "source": [
        "# Intro to Dictionaries:\n",
        "\n",
        "Dictionaries are used to store lots of values, similar to lists. However, disctionaries are not ordered like lists. Instead they use **keys** to find values in the list. Much like a dictionary has a word and then its definition.\n"
      ]
    },
    {
      "cell_type": "code",
      "metadata": {
        "id": "bs-yUHtzyWP8"
      },
      "source": [
        "car_info = {\"brand\":\"Ford\",         #Creating a dictionary, the first variable is the key and the second is the value.\n",
        "            \"model\":\"Mustang\",      #Each pair is split by a comma and each key/value pair can be input on a different line\n",
        "            \"year\":1964}\n",
        "\n",
        "x = car_info[\"brand\"]               #You can access the values in a dictionary by using the key name\n",
        "print(x)\n",
        "\n",
        "car_info[\"year\"] = 2020             #Create a new member for the dictionary by giving it a new key and value\n",
        "\n",
        "car_info[\"year\"] = 2021             #You can edit an existing member of the dictionary by using the key and assigning a new value\n",
        "\n",
        "del car_info[\"year\"]      #You can delete a member of a dictionary using its key name\n",
        "\n",
        "car_info.clear()          #If you want to clear everything from a dictionary\n"
      ],
      "execution_count": null,
      "outputs": []
    },
    {
      "cell_type": "markdown",
      "metadata": {
        "id": "r6Uc8wOc24at"
      },
      "source": [
        "#Interacting with Dictionaries\n",
        "\n",
        "Much like lists, it is possible to loop through and interact with dictionaries relatively easily. \n",
        "However, the syntax is slightly different."
      ]
    },
    {
      "cell_type": "code",
      "metadata": {
        "id": "0rx4aYkB3GNy"
      },
      "source": [
        "rand_dict = {\"big mac\":3.29, \"cheeseburger\":0.99, \"mayo chicken\":0.99, \"chicken legend\":3.99}\n",
        "\n",
        "for x in rand_dict.values(): #This will loop through all the values, not the keys\n",
        "  print(x)\n",
        "\n",
        "for y in rand_dict.keys(): #This will loop through all the keys\n",
        "  print(y)\n",
        "\n",
        "for x, y in rand_dict.items():  #This will loop through both the keys and values, assigning key to \"x\" and values to \"y\"\n",
        "  print(x, \"costs:\", y)\n",
        "\n",
        "\n",
        "if \"mayo chicken\" in rand_dict:     #You can check if a key is in the dictionary. It returns true if it is found.\n",
        "  print(\"Yes, mayo chicken is in the dictionary.\")\n",
        "\n",
        "else:\n",
        "  print(\"It is not in the dictioary.\")"
      ],
      "execution_count": null,
      "outputs": []
    },
    {
      "cell_type": "markdown",
      "metadata": {
        "id": "-h7L_wyPw0nd"
      },
      "source": [
        "#Intro to Functions\n",
        "\n",
        "A function is a named block of computer code that you runs when you call it. In essence, it's a routine/procedure that we can use repeatedly wherever we want."
      ]
    },
    {
      "cell_type": "markdown",
      "metadata": {
        "id": "DtaiW5XSvJ7z"
      },
      "source": [
        "# Creating and Calling a Function:\n",
        "\n",
        "Functions follow the same naming convention as variables and must have unique names. Notice that everything in the function is indented with **tab**."
      ]
    },
    {
      "cell_type": "code",
      "metadata": {
        "id": "kPLI995ivJQ_"
      },
      "source": [
        "def my_first_fnc():       #Creating a function called my_first_fnc\n",
        "  print(\"Speaking to you from my first function.\")   #Whenever this function is called, anything that is indented will be run.\n",
        "\n",
        "\n",
        "my_first_fnc()    #You call a function by writing its name followed by closed brackets.\n",
        "my_first_fnc()\n"
      ],
      "execution_count": null,
      "outputs": []
    },
    {
      "cell_type": "markdown",
      "metadata": {
        "id": "J2NKH3_hwitN"
      },
      "source": [
        "# Passing Information to a Function\n",
        "\n",
        "Sometimes you want to pass values into a function so that you can repeatedly complete a task on different data values. These passed values are called **arguments**. Changing values in the function does not change values outside."
      ]
    },
    {
      "cell_type": "code",
      "metadata": {
        "id": "TLMs7dPUyIQn"
      },
      "source": [
        "def find_average(first_num, second_num):  #You list the arguments names inside the brackets, seperated by commas\n",
        "  average = (first_num + second_num)/2    #You can now refer to the values sent using the argument names\n",
        "  print(\"The average is:\", average)     \n",
        "\n",
        "\n",
        "find_average(6,7)   #Call the argument with values\n",
        "\n",
        "x = 54\n",
        "y = 76\n",
        "\n",
        "find_average(x,y)   #Call the argument with variables"
      ],
      "execution_count": null,
      "outputs": []
    },
    {
      "cell_type": "markdown",
      "metadata": {
        "id": "DqQm2yaz_cRW"
      },
      "source": [
        "\n",
        "# **ExCode Python 5**\n",
        "\n",
        "**ExCode is run by X-AI and Entrepreneurs Society**\n",
        "\n",
        "---\n",
        "[X-AI Facebook](https://www.facebook.com/exeAI)\n",
        "\n",
        "[X-AI Sign Up](https://fixr.co/organiser/83306494)\n",
        "\n",
        "---\n",
        "[Entrepreneurs Society Facebook](https://www.facebook.com/ExeterEntrepreneurs)\n",
        "\n",
        "[Entrepreneurs Society Guild Page](https://www.exeterguild.org/societies/exeterentrepreneurs/)\n",
        "\n",
        "---"
      ]
    },
    {
      "cell_type": "markdown",
      "metadata": {
        "id": "037Xw_uH_lpJ"
      },
      "source": [
        "# Build your own Programs\n",
        "\n",
        "Now to write your own programs. Below each question, there will be a box in which to write your Python code. Once you have created the program, click the play button at the top left of the box to run it.\n"
      ]
    },
    {
      "cell_type": "markdown",
      "metadata": {
        "id": "n8V4wRBf6oX6"
      },
      "source": [
        "1.)\n",
        "\n",
        "Create a dictionary with three keys: \"name\", \"age\", \"course\". \n",
        "\n",
        "Assign the corresponding values to the keys and then print this dictionary out."
      ]
    },
    {
      "cell_type": "code",
      "metadata": {
        "id": "n3nrZvmU8XOH",
        "colab": {
          "base_uri": "https://localhost:8080/"
        },
        "outputId": "dbc49582-1a8b-4118-e345-47c4136d14a2"
      },
      "source": [
        "this_dict = {\"name\":\"Harry\", \"age\":19, \"course\": \"Computer Science and English\"}\n",
        "print(this_dict)"
      ],
      "execution_count": 20,
      "outputs": [
        {
          "output_type": "stream",
          "name": "stdout",
          "text": [
            "{'name': 'Harry', 'age': 19, 'course': 'Computer Science and English'}\n"
          ]
        }
      ]
    },
    {
      "cell_type": "markdown",
      "metadata": {
        "id": "YG_Mw_HH8-aP"
      },
      "source": [
        "2.) \n",
        "\n",
        "You are provided with a dictionary.\n",
        "\n",
        "**del**ete \"apple\" from the dictionary.\n",
        "\n",
        "Then add \"pineapple\" with a value of 67."
      ]
    },
    {
      "cell_type": "code",
      "metadata": {
        "id": "3_wlsqb29W7g",
        "colab": {
          "base_uri": "https://localhost:8080/"
        },
        "outputId": "c98958ea-b7d4-4343-e2b9-e585f08817ee"
      },
      "source": [
        "fruits = {\"orange\": 65, \"pear\": 34, \"banana\": 60, \"apple\": 76, \"grape\": 543}\n",
        "\n",
        "del fruits[\"apple\"]\n",
        "fruits[\"pineapple\"] = 67\n",
        "\n",
        "print(fruits)"
      ],
      "execution_count": 4,
      "outputs": [
        {
          "output_type": "stream",
          "name": "stdout",
          "text": [
            "{'orange': 65, 'pear': 34, 'banana': 60, 'grape': 543, 'pineapple': 67}\n"
          ]
        }
      ]
    },
    {
      "cell_type": "markdown",
      "metadata": {
        "id": "q2RmKd7V8ixo"
      },
      "source": [
        "3.) \n",
        "\n",
        "You are provided with a dictionary.\n",
        "\n",
        "\n",
        "Fristly, loop through all the values and print them out.\n",
        "\n",
        "Secondly, loop through all the keys and print them out. \n",
        "\n",
        "Thirdly, loop through all the keys and values at the same time and print them out."
      ]
    },
    {
      "cell_type": "code",
      "metadata": {
        "id": "WIcB8wyY890E",
        "colab": {
          "base_uri": "https://localhost:8080/"
        },
        "outputId": "9be2a625-9131-4f24-966d-d7e7faf043f9"
      },
      "source": [
        "dictionary_2 = { \"name\": \"Kelly\",\n",
        "                \"age\":25,\n",
        "                \"salary\": 8000,\n",
        "                \"city\": \"New york\"}\n",
        "\n",
        "for val in dictionary_2.values():\n",
        "  print(val)\n",
        "\n",
        "print(\"-------------------\")\n",
        "\n",
        "for k in dictionary_2.keys():\n",
        "  print(k)\n",
        "\n",
        "print(\"-------------------\")\n",
        "\n",
        "for x,y in dictionary_2.items():\n",
        "  print(x,\":\",y)"
      ],
      "execution_count": 11,
      "outputs": [
        {
          "output_type": "stream",
          "name": "stdout",
          "text": [
            "Kelly\n",
            "25\n",
            "8000\n",
            "New york\n",
            "-------------------\n",
            "name\n",
            "age\n",
            "salary\n",
            "city\n",
            "-------------------\n",
            "name : Kelly\n",
            "age : 25\n",
            "salary : 8000\n",
            "city : New york\n"
          ]
        }
      ]
    },
    {
      "cell_type": "markdown",
      "metadata": {
        "id": "ZjuWn4f5-7yk"
      },
      "source": [
        "4.)\n",
        "\n",
        "You are given a dictionary.\n",
        "\n",
        "Check **if** the key \"exit\" is **in** the dictionary. If it is in the dictionary then print \"it is in the dictionary\", **else** print \"it is not in the dictionary\". "
      ]
    },
    {
      "cell_type": "code",
      "metadata": {
        "id": "sqDVg4WT_aTn",
        "colab": {
          "base_uri": "https://localhost:8080/"
        },
        "outputId": "0893018a-91ff-4957-ab69-d13c31efec17"
      },
      "source": [
        "dict_2 = {\"enter\": 5, \"close\": 5, \"hinder\": 6, \"exit\":4, \"lock\": 4}\n",
        "\n",
        "if \"exit\" in dict_2.keys():\n",
        "  print(\"exit is in the dictionary\")\n",
        "else:\n",
        "  print(\"exit is not in the dictionary\")\n",
        "\n",
        "\n"
      ],
      "execution_count": 13,
      "outputs": [
        {
          "output_type": "stream",
          "name": "stdout",
          "text": [
            "exit is in the dictionary\n"
          ]
        }
      ]
    },
    {
      "cell_type": "markdown",
      "metadata": {
        "id": "UxCBL_pZGFbj"
      },
      "source": [
        "5.) \n",
        "\n",
        "Create a function called **wetherspoons**. When this function is called it should print out **Why is Chev full at 8 pm?**\n",
        "\n",
        "Call this function 3 times."
      ]
    },
    {
      "cell_type": "code",
      "metadata": {
        "id": "CWx3XYTGHC7H",
        "colab": {
          "base_uri": "https://localhost:8080/"
        },
        "outputId": "d15bef61-7ed9-4936-e901-7418e88fabfb"
      },
      "source": [
        "def wetherspoons():\n",
        "  print(\"why is chev full at 8pm?\")\n",
        "\n",
        "for i in range(0,3):\n",
        "  wetherspoons()\n",
        "\n",
        "\n",
        "\n",
        "\n"
      ],
      "execution_count": 14,
      "outputs": [
        {
          "output_type": "stream",
          "name": "stdout",
          "text": [
            "why is chev full at 8pm?\n",
            "why is chev full at 8pm?\n",
            "why is chev full at 8pm?\n"
          ]
        }
      ]
    },
    {
      "cell_type": "markdown",
      "metadata": {
        "id": "pXGLmUPBHDjq"
      },
      "source": [
        "6.) \n",
        "\n",
        "Create another function that takes two arguments, **value** and **multiplier**. When this function is called it should print out the resulting value of the two arguments multiplied. \n",
        "\n",
        "Call this function twice, first using **literal numbers** and second using **variables** as arguments."
      ]
    },
    {
      "cell_type": "code",
      "metadata": {
        "id": "oO47qmXUIEIc",
        "colab": {
          "base_uri": "https://localhost:8080/"
        },
        "outputId": "4e82dfb7-eca4-4025-8cf8-dc1fbcd246a7"
      },
      "source": [
        "def multiply(value, multiplier):\n",
        "  print(value * multiplier)\n",
        "\n",
        "multiply(5,9)\n",
        "\n",
        "x = 3\n",
        "y = 6\n",
        "\n",
        "multiply(x,y)\n"
      ],
      "execution_count": 16,
      "outputs": [
        {
          "output_type": "stream",
          "name": "stdout",
          "text": [
            "45\n",
            "18\n"
          ]
        }
      ]
    },
    {
      "cell_type": "markdown",
      "metadata": {
        "id": "CVM8FhoeJFWa"
      },
      "source": [
        "7.)\n",
        "\n",
        "Create a function that takes one argument, a singular list. It should use a **for loop** to multiply all these values together. Then it should print the total out.\n",
        "\n",
        "Call this function with the provided list.\n",
        "\n",
        "\n",
        "\n"
      ]
    },
    {
      "cell_type": "code",
      "metadata": {
        "id": "g1KyvA44Jy3K",
        "colab": {
          "base_uri": "https://localhost:8080/"
        },
        "outputId": "f74f4bff-14b4-4231-f22c-7394c11174d7"
      },
      "source": [
        "prov_list = [76,35,98.5,54,664,346,8,3,7,32,6]\n",
        "\n",
        "def multiply_list(list_to_multiply):\n",
        "  result = 1\n",
        "  for num in list_to_multiply:\n",
        "    result = result * num\n",
        "  print(result)\n",
        "\n",
        "multiply_list(prov_list)\n",
        "\n",
        "\n",
        "\n"
      ],
      "execution_count": 17,
      "outputs": [
        {
          "output_type": "stream",
          "name": "stdout",
          "text": [
            "1.0484948835680256e+17\n"
          ]
        }
      ]
    },
    {
      "cell_type": "markdown",
      "metadata": {
        "id": "YYeovYOLdI1M"
      },
      "source": [
        "8.)\n",
        "\n",
        "You are provided with a dictionary, **for loop** through all the values in the dictionary and check **if** they are **equal to** 45. **If** they are, delete them from the list.\n",
        "\n",
        "Print out the dictionary.\n",
        "\n",
        "**==** is used to check for **is equal to**"
      ]
    },
    {
      "cell_type": "code",
      "metadata": {
        "id": "DJVV5T8oeLnk",
        "colab": {
          "base_uri": "https://localhost:8080/"
        },
        "outputId": "19fd2518-c2f5-48be-f859-c08d6899221b"
      },
      "source": [
        "this_dict = {\n",
        "    \"dogs val\":45, \"sheep val\":475, \"cats val\":33, \"fish val\":425, \"crab val\":11, \"monkey val\":45, \"shark val\":45,\n",
        "    \"badger val\":45,\"octopus val\":55,\"cheetah val\":45,\"owl val\":656\n",
        "}\n",
        "\n",
        "for key, val in dict(this_dict).items():\n",
        "  if val == 45:\n",
        "    del this_dict[key]\n",
        "  \n",
        "print(this_dict)\n",
        "\n",
        "\n",
        "\n",
        "\n",
        "\n",
        "\n",
        "\n"
      ],
      "execution_count": 19,
      "outputs": [
        {
          "output_type": "stream",
          "name": "stdout",
          "text": [
            "{'sheep val': 475, 'cats val': 33, 'fish val': 425, 'crab val': 11, 'octopus val': 55, 'owl val': 656}\n"
          ]
        }
      ]
    }
  ]
}