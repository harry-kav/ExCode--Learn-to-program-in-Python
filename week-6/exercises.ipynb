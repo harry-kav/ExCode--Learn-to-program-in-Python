{
 "cells": [
  {
   "cell_type": "markdown",
   "metadata": {
    "id": "sIBPPMDN_YzR"
   },
   "source": [
    "\n",
    "# **ExCode Python 6**\n",
    "\n",
    "**ExCode is run by X-AI and Entrepreneurs Society**\n",
    "\n",
    "---\n",
    "[X-AI Facebook](https://www.facebook.com/exeAI)\n",
    "\n",
    "[X-AI Sign Up](https://fixr.co/organiser/83306494)\n",
    "\n",
    "---\n",
    "[Entrepreneurs Society Facebook](https://www.facebook.com/ExeterEntrepreneurs)\n",
    "\n",
    "[Entrepreneurs Society Guild Page](https://www.exeterguild.org/societies/exeterentrepreneurs/)\n",
    "\n",
    "---"
   ]
  },
  {
   "cell_type": "markdown",
   "metadata": {
    "id": "u2Uy1CpjpGbE"
   },
   "source": [
    "**Overview**\n",
    "\n",
    "\n",
    "*   Recap\n",
    "*   Functions\n",
    "*   Building your own programs\n",
    "*   Extra questions"
   ]
  },
  {
   "cell_type": "markdown",
   "metadata": {
    "id": "EafY0YNoyWWt"
   },
   "source": [
    "# Recap\n",
    "\n",
    "Last week we looked at dictionaries and functions.\n"
   ]
  },
  {
   "cell_type": "code",
   "execution_count": 2,
   "metadata": {
    "id": "IPqO6Sipz2Ti"
   },
   "outputs": [
    {
     "name": "stdout",
     "output_type": "stream",
     "text": [
      "Michael\n",
      "Sarah\n",
      "James\n",
      "185\n",
      "170\n",
      "176\n",
      "Michael 185\n",
      "Sarah 170\n",
      "James 176\n",
      "4368\n"
     ]
    }
   ],
   "source": [
    "my_dict = { \"Michael\":185,    #Creating a dictionary\n",
    "           \"Sarah\":168,\n",
    "           \"James\":176}\n",
    "\n",
    "x = my_dict[\"Sarah\"]          #Assigns 168 to x\n",
    "my_dict[\"Sarah\"] = 170        #Changes the value attached to Sarah\n",
    "\n",
    "for x in my_dict:             #Loops through all the keys in the dictionary\n",
    "  print(x)\n",
    "\n",
    "for x in my_dict.values():    #Loops through all the values in the dictionary\n",
    "  print(x)\n",
    "\n",
    "for x, y in my_dict.items():  #Loops through all the keys and values in the dictionary\n",
    "  print(x, y)\n",
    "\n",
    "my_dict[\"John\"] = 179         #Adding to a dictionary\n",
    "\n",
    "del my_dict[\"John\"]           #Deleting an entry in the dictionary\n",
    "\n",
    "\n",
    "\n",
    "def my_function(val_1, val_2):  #Creating a function that takes to values when called\n",
    "\n",
    "  x = val_1 * val_2             #Will run all tab indented code when the function is called\n",
    "  print(x)\n",
    "\n",
    "\n",
    "my_function(56, 78)   #Calling the function with the 2 values, 56 and 78.\n"
   ]
  },
  {
   "cell_type": "markdown",
   "metadata": {
    "id": "-h7L_wyPw0nd"
   },
   "source": [
    "#More Functions\n",
    "\n",
    "A function is a named block of computer code that you runs when you call it. In essence, it's a routine/procedure that we can use repeatedly wherever we want."
   ]
  },
  {
   "cell_type": "markdown",
   "metadata": {
    "id": "Nr1SrYlyBo2U"
   },
   "source": [
    "# Returning Information from a Function\n",
    "\n",
    "Sometimes you want a function to return a value so that you can use it outside the function. Returning a value from a function is the solution to this. "
   ]
  },
  {
   "cell_type": "code",
   "execution_count": 3,
   "metadata": {
    "id": "MDO_GkpvCZif"
   },
   "outputs": [
    {
     "name": "stdout",
     "output_type": "stream",
     "text": [
      "The value: 125\n"
     ]
    }
   ],
   "source": [
    "def to_npower(value, power):  #Function that takes a value, and what power to put it to\n",
    "  new_value = value         \n",
    "  for i in range(1,power):    #For loop that goes that multiplies the value by itself the needed number of times\n",
    "    new_value = new_value * value\n",
    "\n",
    "  return new_value            #Returns the value created \n",
    "\n",
    "power5 = to_npower(5,3)      #Assigns the return value of the function to the variable\n",
    "print(\"The value:\", power5)  #Prints out the value in 5_power_3, it should be 125\n"
   ]
  },
  {
   "cell_type": "markdown",
   "metadata": {
    "id": "DwjxX5p8adG1"
   },
   "source": [
    "#Setting Default Values of Arguments\n",
    "\n",
    "Sometimes you will want to set default values to your arguments for when your user does not pass any values."
   ]
  },
  {
   "cell_type": "code",
   "execution_count": 4,
   "metadata": {
    "id": "ZWHqCfxga5zf"
   },
   "outputs": [
    {
     "name": "stdout",
     "output_type": "stream",
     "text": [
      "You're percentage is: 0.8\n",
      "This lower than or equal to predicted.\n",
      "You're percentage is: 0.7\n",
      "This lower than or equal to predicted.\n",
      "You're percentage is: 0.45\n",
      "This lower than or equal to predicted.\n"
     ]
    }
   ],
   "source": [
    "def find_test_perc(no_correct, total_question = 100, predicted = 60):  #Creates a function which will take 3 arguments, the last 2 have default values\n",
    "\n",
    "  percentage = no_correct / total_question\n",
    "\n",
    "  print(\"You're percentage is:\", percentage)\n",
    "\n",
    "  if percentage > predicted:\n",
    "    print(\"This is higher than predicted.\")\n",
    "\n",
    "  else:\n",
    "    print(\"This lower than or equal to predicted.\")\n",
    "\n",
    "\n",
    "find_test_perc(80)                #Calls the function with only the first argument\n",
    "find_test_perc(56, 80, 60)        #Calls the function sending all three arguments\n",
    "find_test_perc(45, predicted = 70)#Calls the function with the first and last argument, you can send any argument by specifying its name.\n",
    "\n"
   ]
  },
  {
   "cell_type": "markdown",
   "metadata": {
    "id": "Ri3cTh6eD51M"
   },
   "source": [
    "#Arbitrary Number of Arguments\n",
    "\n",
    "Sometimes you don't know how many values are going to be sent to the function. So you can use ***args**. Simply put an asterisk before the argument name."
   ]
  },
  {
   "cell_type": "code",
   "execution_count": 5,
   "metadata": {
    "id": "ywK5DU7nET2u"
   },
   "outputs": [
    {
     "name": "stdout",
     "output_type": "stream",
     "text": [
      "(1, 4, 7, 6, 3, 2, 5, 8)\n",
      "4.5\n"
     ]
    }
   ],
   "source": [
    "def find_avg_2(*values):    #Function with varying number of arguments\n",
    "  sum_val = 0       \n",
    "  print(values)             #Prints out all the values sent to the function\n",
    "  for v in values:          #Loops through all the values sent\n",
    "    sum_val = sum_val + v   #Sums up all the values\n",
    "\n",
    "  avg = sum_val / len(values) #Divides the sum of all values by the number of arguments sent to the function\n",
    "  return(avg)               #Returns the average\n",
    "\n",
    "print(find_avg_2(1,4,7,6,3,2,5,8))      #Prints out the average\n"
   ]
  },
  {
   "cell_type": "markdown",
   "metadata": {
    "id": "KzOB-5zNdz6L"
   },
   "source": [
    "#Input\n",
    "\n",
    "If you need to ask the user for input, you can use the input function."
   ]
  },
  {
   "cell_type": "code",
   "execution_count": null,
   "metadata": {
    "id": "20krADXQd_-0"
   },
   "outputs": [],
   "source": [
    "example_input = input()  #This will ask the user to input something, once the user has pressed enter it \n",
    "                         #it will assign the input value to the variable example_input.\n",
    "\n",
    "print(\"This is what you put in:\", example_input)\n",
    "\n",
    "another_example = input(\"Input something else:\")  #This asks the user for another input, but this time it will print out \n",
    "                                                  #some text when asking the user for input\n",
    "\n",
    "print(\"This is what you put in second:\", another_example)"
   ]
  },
  {
   "cell_type": "markdown",
   "metadata": {
    "id": "38n5M_JVGzqZ"
   },
   "source": [
    "#Functions calling Functions\n",
    "\n",
    "Functions can call other functions if needed. This can be useful if something needs to be repeated."
   ]
  },
  {
   "cell_type": "code",
   "execution_count": null,
   "metadata": {
    "id": "yHVc_dXzG9Am"
   },
   "outputs": [],
   "source": [
    "def my_equation(number):  #Function that takes one number\n",
    "\n",
    "  new_num = ((number * 2) + 7) / 2  #Creates a number using a small equation\n",
    "\n",
    "  return new_num        #Returns the new number\n",
    "\n",
    "\n",
    "def complete_for_all(my_list):  #Function that loops through a passed list\n",
    "\n",
    "  for num in my_list:     #For every item in the list \n",
    "\n",
    "    x = my_equation(num)  #Call the function my_equation\n",
    "    print(x)\n",
    "\n",
    "\n",
    "complete_for_all([12,56,86,23])"
   ]
  },
  {
   "cell_type": "markdown",
   "metadata": {
    "id": "DqQm2yaz_cRW"
   },
   "source": [
    "\n",
    "# **ExCode Python 5**\n",
    "\n",
    "**ExCode is run by X-AI and Entrepreneurs Society**\n",
    "\n",
    "---\n",
    "[X-AI Facebook](https://www.facebook.com/exeAI)\n",
    "\n",
    "[X-AI Sign Up](https://fixr.co/organiser/83306494)\n",
    "\n",
    "---\n",
    "[Entrepreneurs Society Facebook](https://www.facebook.com/ExeterEntrepreneurs)\n",
    "\n",
    "[Entrepreneurs Society Guild Page](https://www.exeterguild.org/societies/exeterentrepreneurs/)\n",
    "\n",
    "---"
   ]
  },
  {
   "cell_type": "markdown",
   "metadata": {
    "id": "037Xw_uH_lpJ"
   },
   "source": [
    "# Build your own Programs\n",
    "\n",
    "Now to write your own programs. Below each question, there will be a box in which to write your Python code. Once you have created the program, click the play button at the top left of the box to run it.\n"
   ]
  },
  {
   "cell_type": "markdown",
   "metadata": {
    "id": "OYndvTbZIH3a"
   },
   "source": [
    "1.) \n",
    "\n",
    "Create a function that takes four arguments. When this function is called it should **return** all of these arguments multiplied together.\n",
    "\n",
    "Call this function with **(23,56,24,67)** and assign the return value to a variable. Then print out this variable."
   ]
  },
  {
   "cell_type": "code",
   "execution_count": null,
   "metadata": {
    "id": "PXTYrAXiIos0"
   },
   "outputs": [],
   "source": [
    "\n",
    "\n",
    "\n"
   ]
  },
  {
   "cell_type": "markdown",
   "metadata": {
    "id": "CVM8FhoeJFWa"
   },
   "source": [
    "2.)\n",
    "\n",
    "Create a function that takes any number of arguments. It should use a **for loop** to multiply all these values together. Then it should return the result of this.\n",
    "\n",
    "Call this value function with whatever values you like and assign its result to a variable. Print this variable out.\n",
    "\n",
    "\n",
    "\n"
   ]
  },
  {
   "cell_type": "code",
   "execution_count": null,
   "metadata": {
    "id": "g1KyvA44Jy3K"
   },
   "outputs": [],
   "source": [
    "\n",
    "\n",
    "\n"
   ]
  },
  {
   "cell_type": "markdown",
   "metadata": {
    "id": "Wypdf-RrJzcb"
   },
   "source": [
    "3.) \n",
    "\n",
    "Create a function called **find_largest** that takes an unknown number of arguments. The function should then **for loop** through all of these arguments and find the largest value and return it.\n",
    "\n",
    "This will require an **if** statement inside the **for loop**.\n",
    "\n",
    "Test this function out on your own values and see if it works.\n",
    "\n"
   ]
  },
  {
   "cell_type": "code",
   "execution_count": null,
   "metadata": {
    "id": "rKm9MccuNOpq"
   },
   "outputs": [],
   "source": [
    "\n",
    "\n",
    "\n",
    "\n",
    "\n"
   ]
  },
  {
   "cell_type": "markdown",
   "metadata": {
    "id": "Kc5JJcWr_kX6"
   },
   "source": [
    "4.) \n",
    "\n",
    "Create a function called **find_area** that will find the area of a triangle or rectangle.\n",
    "\n",
    "It should take 3 values: \n",
    "\n",
    "**width** which is the width of the shape.\n",
    "\n",
    "**height** which is the height of the shape.\n",
    "\n",
    "**shape** with default value **\"square\"**. \n",
    "\n",
    "If **shape** is \"square\", find the area of a square. If **shape** is \"triangle\" find the area of a triangle. Then return this value. \n",
    "\n",
    "Square area: Height * Width\n",
    "\n",
    "Triangle area: 1/2 * Height * Width\n",
    "\n"
   ]
  },
  {
   "cell_type": "code",
   "execution_count": null,
   "metadata": {
    "id": "0gSOu6zJCXhc"
   },
   "outputs": [],
   "source": [
    "\n",
    "\n",
    "\n",
    "\n",
    "\n"
   ]
  },
  {
   "cell_type": "markdown",
   "metadata": {
    "id": "NNe-zDseGEDF"
   },
   "source": [
    "5.) \n",
    "\n",
    "Create a function that takes two numbers as input.\n",
    "\n",
    "The function should ask the user for **input**. **if** the input is \"sum\", sum the two numbers and print it. **elif** the input is \"multiply\" then multiply the numbers and print it. **else** print out the words \"This is not valid input\". "
   ]
  },
  {
   "cell_type": "code",
   "execution_count": null,
   "metadata": {
    "id": "AgkV8nn-IiwM"
   },
   "outputs": [],
   "source": [
    "\n",
    "\n",
    "\n",
    "\n",
    "\n",
    "\n"
   ]
  },
  {
   "cell_type": "markdown",
   "metadata": {
    "id": "0ESzu_fIe1cE"
   },
   "source": [
    "6.)\n",
    "\n",
    "You are given some values.\n",
    "\n",
    "Create a function that adds all the values together, but **if** a value is **smaller than** 0 you must multiply by -1 before you add it. It should return this value.  \n",
    "\n",
    "Create another function that takes a value and multiplies it by itself, 4 times and returns it.\n",
    "\n",
    "Pass the given variables through the first function. Then call the second function using the return of the first function. Print this out.\n"
   ]
  },
  {
   "cell_type": "code",
   "execution_count": null,
   "metadata": {
    "colab": {
     "base_uri": "https://localhost:8080/"
    },
    "executionInfo": {
     "elapsed": 824,
     "status": "ok",
     "timestamp": 1604488728097,
     "user": {
      "displayName": "Martin Brett",
      "photoUrl": "",
      "userId": "01508036411066689685"
     },
     "user_tz": 0
    },
    "id": "aAr1SGO8gTgl",
    "outputId": "8437951a-cfbf-468c-a572-9127d13606c4"
   },
   "outputs": [],
   "source": [
    "val_1 = 0.01\n",
    "val_2 = -1.3\n",
    "val_3 = -0.6\n",
    "val_4 = 0.542\n",
    "val_5 = -0.536\n",
    "val_6 = 1.4\n",
    "\n",
    "\n"
   ]
  },
  {
   "cell_type": "markdown",
   "metadata": {
    "id": "RmQmZj7FWxsr"
   },
   "source": [
    "7.)\n",
    "\n",
    "You are provided with a list that needs to be sorted.\n",
    "\n",
    "Created 2 functions. \n",
    "\n",
    "The first function should take the list as an argument. It should **for** loop through the passed list and using an **if** create a new list from it, with only values **smaller than 0**. Return this list and print it out.\n",
    "\n",
    "Now create a second function which does the same as the first, but for **larger than 0**."
   ]
  },
  {
   "cell_type": "code",
   "execution_count": null,
   "metadata": {
    "id": "b4CHWCE4Zcn1"
   },
   "outputs": [],
   "source": [
    "to_sort = [56,-45,76.8,-245,-1,0,65.4,34.7,1,-0.001,-43,0.06]\n",
    "\n",
    "\n"
   ]
  }
 ],
 "metadata": {
  "colab": {
   "collapsed_sections": [],
   "name": "ExCode_Lesson_6.ipynb",
   "provenance": [
    {
     "file_id": "1aYTL1o5sMVbgHfe0JGFs8gS2VUzmkH1W",
     "timestamp": 1603196604605
    },
    {
     "file_id": "1ookWA_WeeVCoQ8PnBHUUPQ8okDn2yOox",
     "timestamp": 1603137046060
    },
    {
     "file_id": "1cjOMhAyzEP-n7jSD89xB6voYB-1NMxfi",
     "timestamp": 1602579533204
    }
   ]
  },
  "kernelspec": {
   "display_name": "Python 3 (ipykernel)",
   "language": "python",
   "name": "python3"
  },
  "language_info": {
   "codemirror_mode": {
    "name": "ipython",
    "version": 3
   },
   "file_extension": ".py",
   "mimetype": "text/x-python",
   "name": "python",
   "nbconvert_exporter": "python",
   "pygments_lexer": "ipython3",
   "version": "3.9.7"
  }
 },
 "nbformat": 4,
 "nbformat_minor": 1
}
