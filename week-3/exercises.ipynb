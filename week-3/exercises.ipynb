{
 "cells": [
  {
   "cell_type": "markdown",
   "metadata": {
    "id": "sIBPPMDN_YzR"
   },
   "source": [
    "\n",
    "# **ExCode Python 3**\n",
    "\n",
    "**ExCode is run by X-AI and Entrepreneurs Society**\n",
    "\n",
    "---\n",
    "[X-AI Facebook](https://www.facebook.com/exeAI)\n",
    "\n",
    "[X-AI Sign Up](https://fixr.co/organiser/83306494)\n",
    "\n",
    "---\n",
    "[Entrepreneurs Society Facebook](https://www.facebook.com/ExeterEntrepreneurs)\n",
    "\n",
    "[Entrepreneurs Society Guild Page](https://www.exeterguild.org/societies/exeterentrepreneurs/)\n",
    "\n",
    "---"
   ]
  },
  {
   "cell_type": "markdown",
   "metadata": {
    "id": "u2Uy1CpjpGbE"
   },
   "source": [
    "**Overview**\n",
    "\n",
    "*   Recap\n",
    "*   If...Else\n",
    "*   More For loops\n",
    "*   While loops\n",
    "*   Overview\n",
    "*   Building your own programs\n",
    "\n",
    "\n",
    "\n",
    "\n"
   ]
  },
  {
   "cell_type": "markdown",
   "metadata": {
    "id": "EafY0YNoyWWt"
   },
   "source": [
    "# Recap\n",
    "\n",
    "Last lesson we went through: boolean variables, editing strings, lists, looping through lists. "
   ]
  },
  {
   "cell_type": "code",
   "execution_count": 1,
   "metadata": {
    "id": "IPqO6Sipz2Ti"
   },
   "outputs": [
    {
     "name": "stdout",
     "output_type": "stream",
     "text": [
      "10\n",
      "20\n",
      "30\n",
      "40\n"
     ]
    }
   ],
   "source": [
    "example_1 = 53 > 64         # Set as False because 53 is not larger than 64\n",
    "example_2 = 65 <= 85        # Set as True because 65 is smaller than or equal to 85 \n",
    "example_3 = (53 == 43)      # Set as False because 53 is not equal to 43\n",
    "example_4 = (54 != 65)      # Set as True because 54 is not equal to 65\n",
    "\n",
    "test_list = [1,2,3.5,4,\"six\"] #Creating a list, a list can contain any data type\n",
    "test_value = test_list[3]     #Sets the variable test_value to the 4th value in the list\n",
    "test_list[3] = 9              #Sets the value of the 4th element in the list to 9\n",
    "test_list.append(54)          #Adds the value 54 to the end of the list\n",
    "del test_list[2]              #Deletes the third member from the list\n",
    "\n",
    "next_list = [5,10,15,20]\n",
    "\n",
    "for member in next_list:      #For loop that loops through every member in the list\n",
    "  print(member * 2)           #Prints out each member in the list multiplied by 2, everything that is indented is repeated"
   ]
  },
  {
   "cell_type": "markdown",
   "metadata": {
    "id": "wCbyqzMxEfBP"
   },
   "source": [
    "# If...Else...\n",
    "\n",
    "As we saw in the previous lesson Python allows us to check for True or False using logic operators like **==** and **>**. When something is either True or False we are able to choose and complete specific tasks based on the output. This is done using **If...Else** statements."
   ]
  },
  {
   "cell_type": "code",
   "execution_count": 2,
   "metadata": {
    "id": "_Mgx1t9KEfa9"
   },
   "outputs": [
    {
     "name": "stdout",
     "output_type": "stream",
     "text": [
      "The first number is not larger than the second number.\n",
      "It is devisiable by 4\n"
     ]
    }
   ],
   "source": [
    "first_number = 3.4\n",
    "second_number = 64\n",
    "third_number = 76\n",
    "\n",
    "if first_number > second_number:                               #If the statement is true then this if statement is run              \n",
    "  print(\"The first number is larger than the second number.\")  #Note the indent, everything indented is run\n",
    "\n",
    "else:                                                          #If the statement was not true, then the following is run\n",
    "  print(\"The first number is not larger than the second number.\")\n",
    "\n",
    "if (second_number % 4) == 0:                      #The % symbol is called the modulo, it returns the remainder of two numbers divided\n",
    "  print(\"It is devisiable by 4\")                  #This is run because the remainder of 64/4 is 0, thus 0 == 0.\n",
    "\n",
    "\n",
    "if (first_number > second_number) and (first_number > third_number):  #Is true if first number larger than second and third number\n",
    "  print(\"The first number is largest.\")\n",
    "\n",
    "\n",
    "if (first_number == second_number) or (first_number == third_number): #Is true if first number equals the second or the third number\n",
    "  print(\"The first number is a duplicate of number two or number three.\")\n",
    "\n"
   ]
  },
  {
   "cell_type": "markdown",
   "metadata": {
    "id": "0nXdF4Vt9VRB"
   },
   "source": [
    "# More For loops\n",
    "\n",
    "We have already used **for** loops to loop through lists we have created. However, it is possible to use **for** loops in other ways. \n",
    "\n",
    "**break** keyword will exit the **for** loop.\n",
    "\n",
    "\n",
    "**continue** keyword will return to the start of the **for** loop.\n",
    "\n",
    "\n",
    "**range** keyword will allow you to set numbers to loop through."
   ]
  },
  {
   "cell_type": "code",
   "execution_count": 3,
   "metadata": {
    "id": "FDMA3AVrJWa1"
   },
   "outputs": [
    {
     "name": "stdout",
     "output_type": "stream",
     "text": [
      "1\n",
      "2\n",
      "3\n",
      "4\n",
      "5\n",
      "6\n",
      "7\n",
      "8\n",
      "The ID 2354 Does not match.\n",
      "The ID 451 Does not match.\n",
      "The ID 43456 Does not match.\n",
      "The ID 4544 Does not match.\n",
      "The ID does match, 5515 is in the ID list.\n"
     ]
    }
   ],
   "source": [
    "for number in range(1,9):  #This will loop through the loop 8 times, with the numbers 1-8.\n",
    "  print(number)            #Will print out numbers 1-8\n",
    "\n",
    "ID_numbers = [2354,451,43456,4544,5515,2664,7885,15562,754468,42768,7843]\n",
    "customer_ID = 5515\n",
    "\n",
    "for number in ID_numbers:                 #This will loop through all the numbers in the list\n",
    "  if number == customer_ID:               #This if statement will be run if the current number is 5515, note the second indent\n",
    "    print(\"The ID does match,\",customer_ID, \"is in the ID list.\")  \n",
    "    break;                                #The break keyword will exit the for loop instantly and it will continue the program below\n",
    "  else:                                   #If the current number does not equal 5515 this will be run\n",
    "    print(\"The ID\",number, \"Does not match.\")    \n"
   ]
  },
  {
   "cell_type": "markdown",
   "metadata": {
    "id": "i-twq-ovhCZe"
   },
   "source": [
    "# While Loops\n",
    "\n",
    "**While** loops are another type of loop much like the **for** loop. However, this loop continuously repeats until a certain condition is no longer true or a **break** is found."
   ]
  },
  {
   "cell_type": "code",
   "execution_count": 4,
   "metadata": {
    "id": "bs1Adhf2hS43"
   },
   "outputs": [
    {
     "name": "stdout",
     "output_type": "stream",
     "text": [
      "The counter is at: 0\n",
      "The counter is at: 1\n",
      "The counter is at: 2\n",
      "The counter is at: 3\n",
      "The counter is at: 4\n",
      "The counter is at: 5\n",
      "The counter is at: 6\n",
      "The counter is at: 7\n",
      "The counter is at: 8\n",
      "The counter is at: 9\n",
      "The counter is at: 10\n",
      "We will stop the while loop when counter is 3. It is currently at: 11\n",
      "We will stop the while loop when counter is 3. It is currently at: 10\n",
      "We will stop the while loop when counter is 3. It is currently at: 9\n",
      "We will stop the while loop when counter is 3. It is currently at: 8\n",
      "We will stop the while loop when counter is 3. It is currently at: 7\n",
      "We will stop the while loop when counter is 3. It is currently at: 6\n",
      "We will stop the while loop when counter is 3. It is currently at: 5\n",
      "We will stop the while loop when counter is 3. It is currently at: 4\n",
      "We will stop the while loop when counter is 3. It is currently at: 3\n",
      "Exiting while loop\n"
     ]
    }
   ],
   "source": [
    "counter = 0\n",
    "\n",
    "while counter < 11:                     #This will repeat the loop till counter is no longer smaller than 11 \n",
    "  print(\"The counter is at:\", counter)  \n",
    "  counter = counter + 1                 #Everytime the while loop runs, counter is increased by one\n",
    "\n",
    "while counter > 0:        #This loop will repeat till counter is smaller than 0\n",
    "  print(\"We will stop the while loop when counter is 3. It is currently at:\", counter)\n",
    "  \n",
    "  if counter == 3:        #If counter equals 3 then exit the loop with break\n",
    "    print(\"Exiting while loop\")\n",
    "    break \n",
    "  counter = counter - 1   #Everytime the while loop runs, counter is decreased by 1"
   ]
  },
  {
   "cell_type": "markdown",
   "metadata": {
    "id": "ToHuvXZ81bh_"
   },
   "source": [
    "# Overview\n",
    "\n",
    "Conditional statements are extremely important in programming and their fundamentals must be understood in order to build any complex program."
   ]
  },
  {
   "cell_type": "markdown",
   "metadata": {
    "id": "DqQm2yaz_cRW"
   },
   "source": [
    "\n",
    "# **ExCode Python 1**\n",
    "\n",
    "**ExCode is run by X-AI and Entrepreneurs Society**\n",
    "\n",
    "---\n",
    "[X-AI Facebook](https://www.facebook.com/exeAI)\n",
    "\n",
    "[X-AI Sign Up](https://fixr.co/organiser/83306494)\n",
    "\n",
    "---\n",
    "[Entrepreneurs Society Facebook](https://www.facebook.com/ExeterEntrepreneurs)\n",
    "\n",
    "[Entrepreneurs Society Guild Page](https://www.exeterguild.org/societies/exeterentrepreneurs/)\n",
    "\n",
    "---"
   ]
  },
  {
   "cell_type": "markdown",
   "metadata": {
    "id": "037Xw_uH_lpJ"
   },
   "source": [
    "# Build your own Programs\n",
    "\n",
    "Now to write your own programs. Below each question there will be a box in which to write your Python code. Once you have created the program, click the play button at the top left of the box to run it."
   ]
  },
  {
   "cell_type": "markdown",
   "metadata": {
    "id": "s16HR-B-Bo5_"
   },
   "source": [
    "1.) \n",
    "\n",
    "You are given a variable. **if** the variable is **larger than** 20, print \"This is larger than 20\". \n",
    "\n",
    "**else** print out \"This is not larger than 20\"."
   ]
  },
  {
   "cell_type": "code",
   "execution_count": 5,
   "metadata": {
    "id": "AMwl2zczCoQ-"
   },
   "outputs": [],
   "source": [
    "test_variable = 19\n",
    "\n",
    "\n",
    "\n",
    "\n"
   ]
  },
  {
   "cell_type": "markdown",
   "metadata": {
    "id": "4uXrLliFA1Ta"
   },
   "source": [
    "2.)\n",
    "\n",
    "You are given 3 variables.\n",
    " \n",
    "**if** variable_a **is larger than** variable_b, **and** variable_a **is smaller than** variable_c. Print \"This is true\". \n",
    "\n",
    "**else** print \"This is not true\"."
   ]
  },
  {
   "cell_type": "code",
   "execution_count": 6,
   "metadata": {
    "id": "TryVtUwuCsrk"
   },
   "outputs": [],
   "source": [
    "variable_a = 45\n",
    "variable_b = 23\n",
    "variable_c = 450\n",
    "\n",
    "\n",
    "\n"
   ]
  },
  {
   "cell_type": "markdown",
   "metadata": {
    "id": "Jw23oPhE_xSl"
   },
   "source": [
    "3.) \n",
    "\n",
    "You are provided with an empty list.\n",
    "\n",
    "Using a **for loop** and **range()**, add all the values from 0 to 100 to the end of the empty list using append.\n",
    "\n",
    "Print out this list.\n",
    "\n",
    "**Tip:** To append to a list, **list_name.append(any_value)**"
   ]
  },
  {
   "cell_type": "code",
   "execution_count": 7,
   "metadata": {
    "id": "nkeE5Ei0AjU2"
   },
   "outputs": [],
   "source": [
    "empty_list = []\n",
    "\n",
    "\n",
    "\n",
    "\n"
   ]
  },
  {
   "cell_type": "markdown",
   "metadata": {
    "id": "IudALHX8_mg6"
   },
   "source": [
    "4.)\n",
    "\n",
    "You are provided with a list.\n",
    "\n",
    "Loop through this list using a **for loop**.\n",
    "\n",
    "Inside the **for loop** use an **if statement** to **print** out the value if it is larger than **54**."
   ]
  },
  {
   "cell_type": "code",
   "execution_count": 8,
   "metadata": {
    "id": "NSiW-PuvBWq0"
   },
   "outputs": [],
   "source": [
    "test_list = [54, 76, 56, 89, 12, 96, 12, 56, 76, 43, 64, 34]\n",
    "\n",
    "\n",
    "\n"
   ]
  },
  {
   "cell_type": "markdown",
   "metadata": {
    "id": "kf5hVXo6Cw_M"
   },
   "source": [
    "5.)\n",
    "\n",
    "You are given an integer variable called counter that is assigned the value 10.\n",
    "\n",
    "Using a **while loop**. **while** counter **is more than** 0, print the word \"Buffering...\". Everytime the loop runs, **minus 1** from counter. \n",
    "\n",
    "Outside the loop, print the word \"Finished.\" (remember to unindent). \n",
    "\n",
    "This should print \"Buffering...\" 10 times, followed by \"Finished.\" once.\n",
    "\n"
   ]
  },
  {
   "cell_type": "code",
   "execution_count": 9,
   "metadata": {
    "id": "qRRfzOcJBw0s"
   },
   "outputs": [],
   "source": [
    "counter = 10\n",
    "\n",
    "\n",
    "\n",
    "\n"
   ]
  },
  {
   "cell_type": "markdown",
   "metadata": {
    "id": "xLCwZZPhEKKN"
   },
   "source": [
    "6.)\n",
    "\n",
    "You are given an integer variable called test_value and a counter with the value 0.\n",
    "\n",
    "Create a while loop that loops **while** test_value **is larger than** 0. Everytime it loops increase counter by 1.\n",
    "\n",
    "Inside the loop, **if** the counter value **is equal to** test_value then print \"They are equal\" and exit the **while loop** with **break**."
   ]
  },
  {
   "cell_type": "code",
   "execution_count": 10,
   "metadata": {
    "id": "x_9l6XwcFEbv"
   },
   "outputs": [],
   "source": [
    "test_value = 66\n",
    "counter = 0\n",
    "\n",
    "\n",
    "\n"
   ]
  },
  {
   "cell_type": "markdown",
   "metadata": {
    "id": "ZSrOwEPb5VSR"
   },
   "source": [
    "7.)\n",
    "\n",
    "You are given a list holding odd and even numbers. You are also provided with 2 other empty lists.\n",
    "\n",
    "Loop through the first list. Using **%** operator, **if** the number is even, append it to the even list **else** append it to the odd list.\n",
    "\n",
    "Print out all the lists at the end of the for loop.\n",
    "\n",
    "**Tip:** To test if something is even, **(number % 2) == 0**\n",
    "\n"
   ]
  },
  {
   "cell_type": "code",
   "execution_count": 11,
   "metadata": {
    "id": "9xyAAm0v8RDO"
   },
   "outputs": [],
   "source": [
    "all_numbers = [1,54,73,88,321,76,75,89,33,55,79,4,82,1067,34,56,87,12,54,7,7,8,46]\n",
    "odd_numbers = []\n",
    "even_numbers = []\n",
    "\n",
    "\n",
    "\n",
    "\n"
   ]
  },
  {
   "cell_type": "markdown",
   "metadata": {
    "id": "yGoae3_A8p5M"
   },
   "source": [
    "8.)\n",
    "\n",
    "You are provided with a list of numbers and a variable called current_largest.\n",
    "\n",
    "Using a for loop, loop through the list. Check **if** each value in the list **is larger than** current_largest. And **if** it is, replace current_largest with the value.\n",
    "\n",
    "This should find you the largest number in the list. Print this out at the end."
   ]
  },
  {
   "cell_type": "code",
   "execution_count": 12,
   "metadata": {
    "id": "x79h-euNDBOj"
   },
   "outputs": [],
   "source": [
    "current_largest = 0\n",
    "random_list = [23,56,23,5,64,2,65,7,8,23,54,6,35,7,3,81,6,53,53,67,32,54,1,2,6,78,34,12,45,76]\n",
    "        \n",
    "\n",
    "\n"
   ]
  }
 ],
 "metadata": {
  "colab": {
   "collapsed_sections": [],
   "name": "ExCode_Lesson_3.ipynb",
   "provenance": [
    {
     "file_id": "1cjOMhAyzEP-n7jSD89xB6voYB-1NMxfi",
     "timestamp": 1602579533204
    }
   ]
  },
  "kernelspec": {
   "display_name": "Python 3 (ipykernel)",
   "language": "python",
   "name": "python3"
  },
  "language_info": {
   "codemirror_mode": {
    "name": "ipython",
    "version": 3
   },
   "file_extension": ".py",
   "mimetype": "text/x-python",
   "name": "python",
   "nbconvert_exporter": "python",
   "pygments_lexer": "ipython3",
   "version": "3.9.7"
  }
 },
 "nbformat": 4,
 "nbformat_minor": 1
}
