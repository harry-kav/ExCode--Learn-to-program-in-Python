{
 "cells": [
  {
   "cell_type": "markdown",
   "metadata": {
    "id": "sIBPPMDN_YzR"
   },
   "source": [
    "\n",
    "# **ExCode Python 4**\n",
    "\n",
    "**ExCode is run by X-AI and Entrepreneurs Society**\n",
    "\n",
    "---\n",
    "[X-AI Facebook](https://www.facebook.com/exeAI)\n",
    "\n",
    "[X-AI Sign Up](https://fixr.co/organiser/83306494)\n",
    "\n",
    "---\n",
    "[Entrepreneurs Society Facebook](https://www.facebook.com/ExeterEntrepreneurs)\n",
    "\n",
    "[Entrepreneurs Society Guild Page](https://www.exeterguild.org/societies/exeterentrepreneurs/)\n",
    "\n",
    "---"
   ]
  },
  {
   "cell_type": "markdown",
   "metadata": {
    "id": "u2Uy1CpjpGbE"
   },
   "source": [
    "**Overview**\n",
    "\n",
    "*   Variables\n",
    "*   Lists\n",
    "*   Boolean Variables\n",
    "*   For Loop\n",
    "*   While Loop\n",
    "*   If Statements\n",
    "\n",
    "\n",
    "\n",
    "\n"
   ]
  },
  {
   "cell_type": "markdown",
   "metadata": {
    "id": "kT44JvHTkpe-"
   },
   "source": [
    "#Link to this sheet:\n",
    "\n",
    "#**tinyurl.com/v4nursut**"
   ]
  },
  {
   "cell_type": "markdown",
   "metadata": {
    "id": "wCbyqzMxEfBP"
   },
   "source": [
    "#Variables and Printing\n"
   ]
  },
  {
   "cell_type": "code",
   "execution_count": 1,
   "metadata": {
    "id": "_Mgx1t9KEfa9"
   },
   "outputs": [
    {
     "ename": "NameError",
     "evalue": "name 'another_example' is not defined",
     "output_type": "error",
     "traceback": [
      "\u001b[0;31m---------------------------------------------------------------------------\u001b[0m",
      "\u001b[0;31mNameError\u001b[0m                                 Traceback (most recent call last)",
      "\u001b[0;32m/tmp/ipykernel_179623/3611438006.py\u001b[0m in \u001b[0;36m<module>\u001b[0;34m\u001b[0m\n\u001b[1;32m     11\u001b[0m \u001b[0;34m\u001b[0m\u001b[0m\n\u001b[1;32m     12\u001b[0m \u001b[0mnew_example\u001b[0m \u001b[0;34m=\u001b[0m \u001b[0mfloat\u001b[0m\u001b[0;34m(\u001b[0m\u001b[0mexample_1\u001b[0m\u001b[0;34m)\u001b[0m        \u001b[0;31m#Casting from integer to float\u001b[0m\u001b[0;34m\u001b[0m\u001b[0;34m\u001b[0m\u001b[0m\n\u001b[0;32m---> 13\u001b[0;31m \u001b[0mcasting_again\u001b[0m \u001b[0;34m=\u001b[0m \u001b[0mint\u001b[0m\u001b[0;34m(\u001b[0m\u001b[0manother_example\u001b[0m\u001b[0;34m)\u001b[0m  \u001b[0;31m#Casting from float to integer\u001b[0m\u001b[0;34m\u001b[0m\u001b[0;34m\u001b[0m\u001b[0m\n\u001b[0m\u001b[1;32m     14\u001b[0m \u001b[0mwords_example\u001b[0m \u001b[0;34m=\u001b[0m \u001b[0mstring\u001b[0m\u001b[0;34m(\u001b[0m\u001b[0mexample_1\u001b[0m\u001b[0;34m)\u001b[0m     \u001b[0;31m#Casting from integer to string\u001b[0m\u001b[0;34m\u001b[0m\u001b[0;34m\u001b[0m\u001b[0m\n\u001b[1;32m     15\u001b[0m \u001b[0;34m\u001b[0m\u001b[0m\n",
      "\u001b[0;31mNameError\u001b[0m: name 'another_example' is not defined"
     ]
    }
   ],
   "source": [
    "example_1 = 56                    #This is an integer variable, i.e. a whole nunmber.\n",
    "example_2 = 34.6            #This is a float variable, i.e. a variable with a decimal point.\n",
    "words_example = \"Example of Strings\" #This is a string variable, i.e. just text. \n",
    "is_this = True        #This is a boolean variable, i.e. can only be True or False\n",
    "is_this_not = False   #Another boolean variable\n",
    "\n",
    "mult_example = 87 * 78 * example_1    #Multiplying\n",
    "div_example = example_2 / example_1   #Division \n",
    "add_example = 76 + 43                 #Addition\n",
    "minus_example = 89 - example_1        #Subtraction\n",
    "\n",
    "new_example = float(example_1)        #Casting from integer to float\n",
    "casting_again = int(another_example)  #Casting from float to integer\n",
    "words_example = string(example_1)     #Casting from integer to string\n",
    "\n",
    "print(another_example)      #If printing out a variable on its own, use its name\n",
    "print(\"This is the first example variable\", example_1)  #A comma is used when printing out a non-string variable after text\n",
    "print(\"This is the string example\" + words_example)     #A + is used when printing out a string variable after text"
   ]
  },
  {
   "cell_type": "markdown",
   "metadata": {
    "id": "0nXdF4Vt9VRB"
   },
   "source": [
    "#Lists"
   ]
  },
  {
   "cell_type": "code",
   "execution_count": null,
   "metadata": {
    "id": "FDMA3AVrJWa1"
   },
   "outputs": [],
   "source": [
    "my_list = [1,20.2,3,4,5, True, 6, 26.3, \"some word\"]  #Creating a list, it can contain any type of variable\n",
    "\n",
    "first_index = my_list[0]  #Getting the first value from the list, it starts at 0\n",
    "second_index = my_list[1] #Getting the second value from the list\n",
    "last_index = my_list[-1]  #Getting the last value form the list\n",
    "\n",
    "first_half = my_list[0:5] #Gets all the values form the 0 index up to, but not including the 5th index\n",
    "\n",
    "my_list[0] = 78 #Sets the first value in the list tp 78\n",
    "\n",
    "del my_list[5]  #Deletes the value at the 5th index, everything else moves up the list\n",
    "\n",
    "my_list.append(89.5)  #Adds the value 89.5 to the end of the list\n",
    "\n",
    "length_l = len(my_list) #Gets the length of the list\n"
   ]
  },
  {
   "cell_type": "markdown",
   "metadata": {
    "id": "i-twq-ovhCZe"
   },
   "source": [
    "#For Loop"
   ]
  },
  {
   "cell_type": "code",
   "execution_count": null,
   "metadata": {
    "colab": {
     "base_uri": "https://localhost:8080/"
    },
    "executionInfo": {
     "elapsed": 12,
     "status": "ok",
     "timestamp": 1634644650094,
     "user": {
      "displayName": "X-AI",
      "photoUrl": "https://lh3.googleusercontent.com/a-/AOh14GiAxVW7Rbw9p70sTxO_yiDT2lgYSiySxNpq27Q-=s64",
      "userId": "01774363485798408299"
     },
     "user_tz": -60
    },
    "id": "bs1Adhf2hS43",
    "outputId": "4f6f90a1-dd6c-4f43-954e-3addc714025c"
   },
   "outputs": [],
   "source": [
    "some_num = [1,4,7,9,1,5,7]\n",
    "new_list = []               #An empty list with nothing in it\n",
    "\n",
    "for num in some_num:        #Loops through everything in the list and runs the indented code for every member of the list\n",
    "  new_val = num * num       #Creates a new variable which is the square of num\n",
    "  new_list.append(new_val)  #Adds this new variable to the end of the new_list\n",
    "                            #This results in new_list holding all the values of some_num squared\n",
    "\n",
    "\n",
    "for i in range(0, 10):         #Loops through the numbers 0 to 10, not including 10\n",
    "  print(\"Counting...\", i)      #Then prints out all the numbers\n",
    "\n",
    "\n",
    "example_s = \"This is an example\"\n",
    "\n",
    "for letter in example_s:\n",
    "  print(\"The next letter is:\", letter)\n"
   ]
  },
  {
   "cell_type": "markdown",
   "metadata": {
    "id": "T3dNZVtGbRzP"
   },
   "source": [
    "#If...Else..."
   ]
  },
  {
   "cell_type": "code",
   "execution_count": null,
   "metadata": {
    "id": "EW-Omr3JJcgH"
   },
   "outputs": [],
   "source": [
    "a = 56\n",
    "b = 76\n",
    "c = 89\n",
    "\n",
    "val_1 = a > b                     #True if a is larger than b\n",
    "val_2 = c <= a                    #True if c is smaller than or equal to a\n",
    "val_3 = a == 56                   #True if a is equal to 56\n",
    "val_3 = a != 56                   #True if a does not equal 56\n",
    "val_4 = (b > a) and (b < c)       #True if b is larger than a AND b is smaller than c \n",
    "val_5 = (c == 89) or (c == 79)    #True if c is equal to 89 OR c is equal to 79\n",
    "\n",
    "if c == 89:                               #Run this code if c equals 89\n",
    "  print(\"Run this Code if c equals 89\")\n",
    "\n",
    "else:                                     #Run this code if C does not equal 89\n",
    "  print(\"Run this code if c does not equal 89\")\n"
   ]
  },
  {
   "cell_type": "markdown",
   "metadata": {
    "id": "ToHuvXZ81bh_"
   },
   "source": [
    "#While Loop\n"
   ]
  },
  {
   "cell_type": "code",
   "execution_count": null,
   "metadata": {
    "id": "0IHtSAMdG54u"
   },
   "outputs": [],
   "source": [
    "counter = 10\n",
    "\n",
    "while counter > 0:      #While counter is larger than 0, run this loop\n",
    "  print(\"The current counter value is:\", counter) #Print this every loop\n",
    "  counter = counter - 1       #Decrease counter by 1\n",
    "\n",
    "\n",
    "counter = 0\n",
    "some_ids = [1231230,11231230,223230,36434,7654,52323,765658,7123123,8123,9645]\n",
    "\n",
    "while counter < 10:   #While counter is smaller than 10, run this loop\n",
    "\n",
    "  if some_ids[counter] == 36434:                  #If the value in the list is equal to 36434, run this\n",
    "    print(\"Correct ID Found:\", some_ids[counter])\n",
    "    break                                         #This will exit the while loop and continue with the program\n",
    "\n",
    "  else:     #If the value in the list is not equal to 36434, run this\n",
    "      print(\"Not Correct ID:\", some_ids[counter])\n",
    "  \n",
    "  counter = counter + 1   #Increase Counter by 1\n",
    "\n",
    "\n",
    "\n",
    "\n"
   ]
  },
  {
   "cell_type": "markdown",
   "metadata": {
    "id": "DqQm2yaz_cRW"
   },
   "source": [
    "\n",
    "# **ExCode Python 4**\n",
    "\n",
    "**ExCode is run by X-AI and Entrepreneurs Society**\n",
    "\n",
    "---\n",
    "[X-AI Facebook](https://www.facebook.com/exeAI)\n",
    "\n",
    "[X-AI Sign Up](https://fixr.co/organiser/83306494)\n",
    "\n",
    "---\n",
    "[Entrepreneurs Society Facebook](https://www.facebook.com/ExeterEntrepreneurs)\n",
    "\n",
    "[Entrepreneurs Society Guild Page](https://www.exeterguild.org/societies/exeterentrepreneurs/)\n",
    "\n",
    "---"
   ]
  },
  {
   "cell_type": "markdown",
   "metadata": {
    "id": "037Xw_uH_lpJ"
   },
   "source": [
    "# Build your own Programs\n",
    "\n",
    "Now to write your own programs. Below each question there will be a box in which to write your Python code. Once you have created the program, click the play button at the top left of the box to run it."
   ]
  },
  {
   "cell_type": "markdown",
   "metadata": {
    "id": "s16HR-B-Bo5_"
   },
   "source": [
    "1.) \n",
    "\n",
    "You are given 3 variables, **multiply** them all together and assign the result to a variable called **final_number**. **If** this variable is **larger** than 89 print \"This is larger than 89\", **else** print \"This is not larger than 89\"."
   ]
  },
  {
   "cell_type": "code",
   "execution_count": null,
   "metadata": {
    "colab": {
     "base_uri": "https://localhost:8080/"
    },
    "executionInfo": {
     "elapsed": 243,
     "status": "ok",
     "timestamp": 1634640977958,
     "user": {
      "displayName": "X-AI",
      "photoUrl": "https://lh3.googleusercontent.com/a-/AOh14GiAxVW7Rbw9p70sTxO_yiDT2lgYSiySxNpq27Q-=s64",
      "userId": "01774363485798408299"
     },
     "user_tz": -60
    },
    "id": "AMwl2zczCoQ-",
    "outputId": "60756eda-4e19-4802-9ea4-060ab90c38c2"
   },
   "outputs": [],
   "source": [
    "a_num = 7.65\n",
    "b_num = -87.8\n",
    "c_num = -0.13\n",
    "\n",
    "\n",
    "\n",
    "\n",
    "\n"
   ]
  },
  {
   "cell_type": "markdown",
   "metadata": {
    "id": "4uXrLliFA1Ta"
   },
   "source": [
    "2.)\n",
    "\n",
    "You are given a list, **append** the numbers 98 and 45 to the end of the list. Then **del**ete the first value at the start of the list.\n",
    "\n",
    "You are also given a variable called total. **for** loop through the whole list and add all the members of the list together, assign the value to the variable called total, then print it out.\n",
    "\n"
   ]
  },
  {
   "cell_type": "code",
   "execution_count": null,
   "metadata": {
    "id": "TryVtUwuCsrk"
   },
   "outputs": [],
   "source": [
    "my_list = [12,5456,3,66,123,67,124,764,123,5,34,6,3,788,4]\n",
    "total = 0\n",
    "\n",
    "\n"
   ]
  },
  {
   "cell_type": "markdown",
   "metadata": {
    "id": "9ICiPUinVP9m"
   },
   "source": [
    "3.)\n",
    "\n",
    "You are given a list of numbers.\n",
    "\n",
    "**for** loop through all of these numbers. If the number is **larger** than 34 **and** also **smaller** than 78, print out \"It is in the range\". **else** print out \"It is not in the range\"."
   ]
  },
  {
   "cell_type": "code",
   "execution_count": null,
   "metadata": {
    "id": "59ijBm0CVPEB"
   },
   "outputs": [],
   "source": [
    "this_list = [23,7,345,462,35,46,57,23,76,12,866,12,57]"
   ]
  },
  {
   "cell_type": "markdown",
   "metadata": {
    "id": "Jw23oPhE_xSl"
   },
   "source": [
    "4.) \n",
    "\n",
    "You are given a list with values and two other lists which are empty. **for** loop through the list with values. For each value, **if** it is **larger** than 100 **append** it to list_b and if it is **less** than 100 **append** it to list_c.\n",
    "\n",
    "Print out all the lists at the end."
   ]
  },
  {
   "cell_type": "code",
   "execution_count": null,
   "metadata": {
    "id": "nkeE5Ei0AjU2"
   },
   "outputs": [],
   "source": [
    "list_a = [-25,78,266,102,467,100,65,23,68,1908,1940]\n",
    "list_b = []\n",
    "list_c = []\n",
    "\n",
    "\n",
    "\n"
   ]
  },
  {
   "cell_type": "markdown",
   "metadata": {
    "id": "kf5hVXo6Cw_M"
   },
   "source": [
    "5.)\n",
    "\n",
    "You are given a list of strings. Using a **for** loop, loop through the list and print out each string. Then, inside this **for** loop use another **for** loop to go through every letter in the strings. **if** the string contains the letter \"x\" then print out \"It contains the letter X\". \n",
    "\n"
   ]
  },
  {
   "cell_type": "code",
   "execution_count": null,
   "metadata": {
    "id": "NSiW-PuvBWq0"
   },
   "outputs": [],
   "source": [
    "some_text = [\"axis\", \"zebra\", \"salad\", \"beer\", \"extract\", \"axolotl\", \"monkey\", \"lizard\", \"espresso\", \"random\"]\n",
    "\n"
   ]
  },
  {
   "cell_type": "markdown",
   "metadata": {
    "id": "IudALHX8_mg6"
   },
   "source": [
    "6.)\n",
    "\n",
    "This might be a bit tricky.\n",
    "\n",
    "You are given a list of numbers. Using a **while** loop, print the list out in reverse order.\n",
    "\n",
    "Hint: Find the **len**gth of the list. Then set a variable to the negative of the length. Then loop from -1 to the negative of the length, using a counter in the while loop.\n",
    "\n",
    "\n",
    "\n"
   ]
  },
  {
   "cell_type": "code",
   "execution_count": null,
   "metadata": {
    "id": "qRRfzOcJBw0s"
   },
   "outputs": [],
   "source": [
    "reverse_this = [1,3,9,27,81,243,729,2187,6561]\n",
    "\n",
    "\n",
    "\n",
    "\n",
    "\n"
   ]
  },
  {
   "cell_type": "markdown",
   "metadata": {
    "id": "yGoae3_A8p5M"
   },
   "source": [
    "7.)\n",
    "\n",
    "This question was in last weeks notebook.\n",
    "\n",
    "You are provided with a list of numbers and a variable called current_largest.\n",
    "\n",
    "Using a for loop, loop through the list. Check **if** each value in the list **is larger than** current_largest. And **if** it is, replace current_largest with the value.\n",
    "\n",
    "This should find you the largest number in the list. Print this out at the end."
   ]
  },
  {
   "cell_type": "code",
   "execution_count": null,
   "metadata": {
    "id": "x79h-euNDBOj"
   },
   "outputs": [],
   "source": [
    "current_largest = 0\n",
    "random_list = [23,56,23,5,64,2,65,7,8,23,54,6,35,7,3,81,6,53,53,67,32,54,1,2,6,78,34,12,45,76]\n",
    "\n",
    "\n",
    "\n",
    "\n"
   ]
  }
 ],
 "metadata": {
  "colab": {
   "collapsed_sections": [],
   "name": "Teacher_ExCode_Lesson_4.ipynb",
   "provenance": [
    {
     "file_id": "1cjOMhAyzEP-n7jSD89xB6voYB-1NMxfi",
     "timestamp": 1602579533204
    }
   ]
  },
  "kernelspec": {
   "display_name": "Python 3 (ipykernel)",
   "language": "python",
   "name": "python3"
  },
  "language_info": {
   "codemirror_mode": {
    "name": "ipython",
    "version": 3
   },
   "file_extension": ".py",
   "mimetype": "text/x-python",
   "name": "python",
   "nbconvert_exporter": "python",
   "pygments_lexer": "ipython3",
   "version": "3.9.7"
  }
 },
 "nbformat": 4,
 "nbformat_minor": 1
}
