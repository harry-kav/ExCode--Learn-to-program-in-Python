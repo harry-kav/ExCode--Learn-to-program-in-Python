{
  "nbformat": 4,
  "nbformat_minor": 0,
  "metadata": {
    "colab": {
      "name": "Answers ExCode_Lesson_7.ipynb",
      "provenance": [],
      "collapsed_sections": [],
      "toc_visible": true
    },
    "kernelspec": {
      "name": "python3",
      "display_name": "Python 3"
    }
  },
  "cells": [
    {
      "cell_type": "markdown",
      "metadata": {
        "id": "sIBPPMDN_YzR"
      },
      "source": [
        "\n",
        "# **ExCode Python 7**\n",
        "\n",
        "**ExCode is run by X-AI and Entrepreneurs Society**\n",
        "\n",
        "---\n",
        "[X-AI Facebook](https://www.facebook.com/exeAI)\n",
        "\n",
        "[X-AI Sign Up](https://fixr.co/organiser/83306494)\n",
        "\n",
        "---\n",
        "[Entrepreneurs Society Facebook](https://www.facebook.com/ExeterEntrepreneurs)\n",
        "\n",
        "[Entrepreneurs Society Guild Page](https://www.exeterguild.org/societies/exeterentrepreneurs/)\n",
        "\n",
        "---"
      ]
    },
    {
      "cell_type": "markdown",
      "metadata": {
        "id": "u2Uy1CpjpGbE"
      },
      "source": [
        "**Overview**\n",
        "\n",
        "\n",
        "*   Recap\n",
        "*   Classes\n",
        "*   Building your own programs"
      ]
    },
    {
      "cell_type": "markdown",
      "metadata": {
        "id": "EafY0YNoyWWt"
      },
      "source": [
        "# Recap\n",
        "\n",
        "Last week we looked at functions.\n"
      ]
    },
    {
      "cell_type": "code",
      "metadata": {
        "id": "IPqO6Sipz2Ti"
      },
      "source": [
        "def sum_and_square(val_1, val_2):   #Creates a function that takes two values \n",
        "  new_val = val_1 + val_2\n",
        "  final_val = new_val * new_val\n",
        "\n",
        "  print(final_val)                  #This function does not return anything\n",
        "\n",
        "\n",
        "def find_max(*vals):                #Creates a function that takes any number of values\n",
        "  curr_largest = 0\n",
        "\n",
        "  for i in vals:                    #Loops through all the supplied values\n",
        "\n",
        "    if i > curr_largest:\n",
        "      curr_largest = i\n",
        "\n",
        "  return curr_largest               #Returns a value to the caller\n",
        "\n",
        "\n",
        "\n",
        "sum_and_square(5,7)                 #Calls the first function, this function does not return anything\n",
        "\n",
        "max_val = find_max(2,356,231,-445,12,5413,24,357,291) #Calls second function, assigns the return value to max_val variable\n",
        "print(max_val)                                        #Print out the assigned max_val\n"
      ],
      "execution_count": null,
      "outputs": []
    },
    {
      "cell_type": "markdown",
      "metadata": {
        "id": "-h7L_wyPw0nd"
      },
      "source": [
        "#Intro to Classes\n",
        "\n",
        "Just like how functions were code grouped together so that it might be reused, classes are lots of variables, code and functions grouped together. You create instances of classes just like you create a variable. "
      ]
    },
    {
      "cell_type": "markdown",
      "metadata": {
        "id": "DtaiW5XSvJ7z"
      },
      "source": [
        "# Creating a class \n",
        "\n",
        "Classes are created with the **class** keyword. Once you have created a class you must create an object from this class. Think of a class as a blueprint which holds information, then an object uses this blueprint to complete tasks.\n",
        "\n",
        "To access the functions and variables inside the object:\n",
        "\n",
        "**object_name.function_name()**\n",
        "\n",
        "**object_name.variable_name**"
      ]
    },
    {
      "cell_type": "code",
      "metadata": {
        "id": "kPLI995ivJQ_"
      },
      "source": [
        "class my_class:                                            #This creates the class\n",
        "  object_info = \"This object is an instance of my_class. \"  #This is a variable inside the class\n",
        "\n",
        "  def test_func(self):                        #This is a function inside a class, notice the self put in the brackets\n",
        "      print(\"This is a message inside the class.\")\n",
        "\n",
        "my_object = my_class()                        #Creating an object from a class\n",
        "\n",
        "\n",
        "print(my_object.object_info)                              #Prints out the variable inside the object\n",
        "my_object.object_info = \"I have now changed the variable.\" #You can edit variables inside the object\n",
        "print(my_object.object_info)                              #Printing out the edited \n",
        "\n",
        "myobjectx.test_func()                         #Runs the function inside the object\n",
        "\n",
        "\n",
        "\n",
        "\n"
      ],
      "execution_count": null,
      "outputs": []
    },
    {
      "cell_type": "markdown",
      "metadata": {
        "id": "ISBFgAaVtoh1"
      },
      "source": [
        "# **self** Keyword\n",
        "\n",
        "The self keyword is used to refer to the current object being used. It is used to access the variables inside the object and it must be the first parameter inside the brackets of a class function. It basically tells the program to look inside the object to find this variable."
      ]
    },
    {
      "cell_type": "code",
      "metadata": {
        "id": "7C4eO7V8uIsl"
      },
      "source": [
        "class giraffe:                  #Creates a class\n",
        "  no_legs = 4                   #Creates variables that are inside this class\n",
        "  coat = \"Patchy\"\n",
        "  neck_length = \"Pretty long\"\n",
        "\n",
        "  def g_description(self):                  #Notice that self is the first parameter in the brackets\n",
        "    print(\"Number of Legs:\", self.no_legs)  #When self.no_legs is used, it is telling the program to look for no_legs inside the object\n",
        "    print(\"Coat pattern: \" + self.coat)\n",
        "    print(\"Neck length: \" + self.neck_length)\n",
        "\n",
        "\n",
        "jerry_g = giraffe()             #Create object\n",
        "\n",
        "jerry_g.g_description()         #Run function inside the object"
      ],
      "execution_count": null,
      "outputs": []
    },
    {
      "cell_type": "markdown",
      "metadata": {
        "id": "J2NKH3_hwitN"
      },
      "source": [
        "# **\\__init__** Function\n",
        "\n",
        "When you create an object from a class, it is possible to send it information to store and use. This is where **\\__init__** comes in useful. Whenever you create an object, this function is run. "
      ]
    },
    {
      "cell_type": "code",
      "metadata": {
        "id": "TLMs7dPUyIQn"
      },
      "source": [
        "class package_info:                           #Creates a class\n",
        "  \n",
        "  def __init__(self, vol, weig, val): #Whenever an object of this class is made it will run this function, it expects 3 values\n",
        "    self.volume = vol                 #Self refers to this object\n",
        "    self.weight = weig                #So self.variable name creates a variable inside this object\n",
        "    self.value = val                  #Then it assigns the values passed into __init__ to these variables                    \n",
        "\n",
        "  def shipping_cost(self):                            #Creates a function inside the class\n",
        "    cost = (self.volume * 0.2) + (self.weight * 0.1)  #Calculates shipping cost using the values in the object\n",
        "\n",
        "    return cost                                       #Returns the shipping cost\n",
        "\n",
        "my_package = package_info(3, 12, 235)   #Creates an object of the class and sends values to __init__\n",
        "\n",
        "print(\"The value of my package is:\", my_package.value)  #I can access variables created in __init__\n",
        "\n",
        "print(my_package.shipping_cost()) #Use the specific values in this object to calculate the shipping cost\n",
        "\n"
      ],
      "execution_count": null,
      "outputs": []
    },
    {
      "cell_type": "markdown",
      "metadata": {
        "id": "DqQm2yaz_cRW"
      },
      "source": [
        "\n",
        "# **ExCode Python 7**\n",
        "\n",
        "**ExCode is run by X-AI and Entrepreneurs Society**\n",
        "\n",
        "---\n",
        "[X-AI Facebook](https://www.facebook.com/exeAI)\n",
        "\n",
        "[X-AI Sign Up](https://fixr.co/organiser/83306494)\n",
        "\n",
        "---\n",
        "[Entrepreneurs Society Facebook](https://www.facebook.com/ExeterEntrepreneurs)\n",
        "\n",
        "[Entrepreneurs Society Guild Page](https://www.exeterguild.org/societies/exeterentrepreneurs/)\n",
        "\n",
        "---"
      ]
    },
    {
      "cell_type": "markdown",
      "metadata": {
        "id": "037Xw_uH_lpJ"
      },
      "source": [
        "# Build your own Programs\n",
        "\n",
        "Now to write your own programs. Below each question, there will be a box in which to write your Python code. Once you have created the program, click the play button at the top left of the box to run it.\n"
      ]
    },
    {
      "cell_type": "markdown",
      "metadata": {
        "id": "08qsKAyAyNI6"
      },
      "source": [
        "1.) \n",
        "\n",
        "Create a **class** that holds a variable called **my_text** that holds a string **This is my first class**. And also holds a function that prints out **This function is in a class** when called.\n",
        "\n",
        "Then create an object of this class. \n",
        "\n",
        "Print out **my_text** and also run the function you made in the class."
      ]
    },
    {
      "cell_type": "code",
      "metadata": {
        "id": "iUO-gRh7y2A0"
      },
      "source": [
        "class first_class:\n",
        "\n",
        "  my_text = \"This is my first class.\"\n",
        "\n",
        "  def output(self):\n",
        "\n",
        "    print(\"This function is in a class\")\n",
        "\n",
        "\n",
        "testing_obj = first_class()\n",
        "\n",
        "print(testing_obj.my_text)\n",
        "\n",
        "testing_obj.output()\n",
        "\n",
        "\n"
      ],
      "execution_count": null,
      "outputs": []
    },
    {
      "cell_type": "markdown",
      "metadata": {
        "id": "Oo542tDVy3DM"
      },
      "source": [
        "2.)\n",
        "\n",
        "Create a **class**. Inside the class it should hold 3 variables holding integer values of your choice. \n",
        "\n",
        "Create a function inside the class that uses and adds up all the variables you put inside the class. Remember to use the **keyword** when referring to the variables. Have this function **return** the sum you calculated. \n",
        "\n",
        "Now create an object of this class and run the function. Assigning and printing out the return value."
      ]
    },
    {
      "cell_type": "code",
      "metadata": {
        "id": "zoaI1cIoz1NJ"
      },
      "source": [
        "class number_work:\n",
        "\n",
        "  val1 = 45\n",
        "  val2 = 55\n",
        "  val3 = 98\n",
        "\n",
        "  def summing(self):\n",
        "\n",
        "    sum_val = self.val1 + self.val2 + self.val3\n",
        "\n",
        "    return sum_val \n",
        "\n",
        "testing_obje = number_work()\n",
        "\n",
        "var1 = testing_obje.summing()\n",
        "print(var1)\n",
        "\n",
        "\n"
      ],
      "execution_count": null,
      "outputs": []
    },
    {
      "cell_type": "markdown",
      "metadata": {
        "id": "lSbVipP-z2dB"
      },
      "source": [
        "3.)\n",
        "\n",
        "Create a **class** called **animal**. This class should contain an **\\__init__** function that takes 3 arguments, **species**, **no_limbs**, **weight**. Assign these values to their own variables in the object, remember to use the keyword **self**. \n",
        "\n",
        "Now inside the **class**, create a function called **print_info** that prints out all these variables that you created. \n",
        "\n",
        "Create an object of this class with whatever values you want. Then run **print_info**."
      ]
    },
    {
      "cell_type": "code",
      "metadata": {
        "id": "sLWJefza0A03"
      },
      "source": [
        "class animal:\n",
        "\n",
        "  def __init__(self, val1, val2, val3):\n",
        "    self.species = val1\n",
        "    self.no_limbs = val2\n",
        "    self.weight = val3\n",
        "\n",
        "  def print_info(self):\n",
        "    print(self.species, self.no_limbs, self.weight)\n",
        "\n",
        "\n",
        "brown_bear = animal(\"teddy bear\", 4, 300)\n",
        "cat = animal(\"feline\", 4, 10)\n",
        "\n",
        "\n",
        "brown_bear.print_info()\n",
        "cat.print_info()\n",
        "\n"
      ],
      "execution_count": null,
      "outputs": []
    },
    {
      "cell_type": "markdown",
      "metadata": {
        "id": "0zye__Td1g1g"
      },
      "source": [
        "4.) \n",
        "\n",
        "Create a **class** called cuboid. This class will hold information about a cuboid, which is a 3D shape with rectangular sides.\n",
        "\n",
        "It should have an **__init__** function that takes 3 values that must be assigned to the object; **height, width, depth**. \n",
        "\n",
        "It should also have a function that finds the volume of the cuboid and returns it.\n",
        "\n",
        "It should also have a function that take 1 argument, **shrink_factor** and will shrink the dimensions of the cube by the value. This is done by dividing all the values in the cuboid by **shrink_factor**. \n",
        "\n",
        "It should hold a final function called **check_vol**. It should take one argument. And it should check if the volume of the cuboid is larger than the value sent to the function. **If** it is larger print **It is larger**,**else** print **It is smaller**.  \n",
        "Remember, it is possible to call a function inside another function.\n",
        "\n",
        "Create an object of this class and test out all the functions."
      ]
    },
    {
      "cell_type": "code",
      "metadata": {
        "id": "QZbDNxgZ46Q0"
      },
      "source": [
        "class cuboid:\n",
        "\n",
        "  def __init__(self, t_height, t_width, t_depth):\n",
        "    self.height = t_height\n",
        "    self.width = t_width\n",
        "    self.depth = t_depth\n",
        "\n",
        "  def volume(self):\n",
        "    cuboid_volume = self.height * self.width * self.depth\n",
        "\n",
        "    return cuboid_volume\n",
        "\n",
        "  def shrinking(self, shrink_factor):\n",
        "    self.height = self.height / shrink_factor\n",
        "    self.width = self.width / shrink_factor\n",
        "    self.depth = self.depth / shrink_factor\n",
        "\n",
        "  def check_vol(self, check_val):\n",
        "\n",
        "    vol = self.volume()\n",
        "\n",
        "    if vol > check_val:\n",
        "\n",
        "      print(\"It's volume is larger.\")\n",
        "\n",
        "    else:\n",
        "\n",
        "      print(\"It's volume is not larger.\")\n",
        "\n",
        "\n",
        "my_box = cuboid(10,7,9)\n",
        "print(my_box.volume())\n",
        "my_box.shrinking(2)\n",
        "print(my_box.volume())\n",
        "my_box.check_vol(100)\n",
        "\n",
        "\n",
        "\n"
      ],
      "execution_count": null,
      "outputs": []
    }
  ]
}